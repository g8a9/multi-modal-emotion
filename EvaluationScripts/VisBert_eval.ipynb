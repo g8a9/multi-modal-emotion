{
 "cells": [
  {
   "cell_type": "markdown",
   "metadata": {},
   "source": [
    "# Email me if something isnt working Ill respond right away: prsood@sfu.ca"
   ]
  },
  {
   "cell_type": "markdown",
   "metadata": {},
   "source": [
    "First download the model from SFU vault with link: \n",
    "https://vault.sfu.ca/index.php/s/w3tSbMVnBJ5WNkh\n",
    "\n",
    "\n",
    "Next download the testing data from SFU vault with link:\n",
    "https://vault.sfu.ca/index.php/s/BN4Od2Rin1aXEFz\n",
    "\n",
    "\n",
    "From here, open up the zip file and then type in the relative path to the image files that you have created to wherever you need to run them.\n",
    "\n",
    "Finally download the pickle file associated with them:\n",
    "https://vault.sfu.ca/index.php/s/7yKBdl0tJsXDO4r\n",
    "\n"
   ]
  },
  {
   "cell_type": "code",
   "execution_count": null,
   "metadata": {},
   "outputs": [],
   "source": [
    "import sys\n",
    "sys.path.insert(0,\"/home/prsood/projects/def-whkchun/prsood/multi-modal-emotion/\") \n",
    "__package__ = 'EvaluationScripts'"
   ]
  },
  {
   "cell_type": "code",
   "execution_count": null,
   "metadata": {},
   "outputs": [],
   "source": [
    "from SingleModels.models.text import BertClassifier\n",
    "from SingleModels.models.image import ResnetClassification\n",
    "from DoubleModels.models.visualBert import VBertClassifier\n",
    "from utils.data_loaders import BertDataset, VBertDataset , ImageDataset\n",
    "from torch.utils.data import DataLoader\n",
    "import pandas as pd\n",
    "from sklearn.model_selection import train_test_split\n",
    "from SingleModels.train_model.text_training import evaluate_text\n",
    "from SingleModels.train_model.image_training import evaluate_img\n",
    "from DoubleModels.train_model.visual_bert_train import evaluate_vbert\n",
    "from utils.global_functions import Metrics\n",
    "import torch\n",
    "\n"
   ]
  },
  {
   "cell_type": "code",
   "execution_count": null,
   "metadata": {},
   "outputs": [],
   "source": [
    "args = {}\n",
    "args['output_dim'] = 2\n",
    "model = VBertClassifier(args)\n",
    "model.load_state_dict(torch.load(PATH)) # GPU\n",
    "#  model.load_state_dict(torch.load(PATH,map_location=torch.device('cpu'))) # CPU"
   ]
  },
  {
   "cell_type": "code",
   "execution_count": null,
   "metadata": {},
   "outputs": [],
   "source": [
    "def prepare_dataloader(df , batch_size, pin_memory=True, num_workers=4):\n",
    "    \"\"\"\n",
    "    we load in our dataset, and we just make a random distributed sampler to evenly partition our \n",
    "    dataset on each GPU\n",
    "    say we have 32 data points, if batch size = 8 then it will make 4 dataloaders of size 8 each \n",
    "    \"\"\"\n",
    "    max_len = 70 # just max number of tokens from LSTM    keep this line in here somewhere\n",
    "\n",
    "    dataset = VBertDataset(df , max_len)\n",
    "    dataloader = DataLoader(dataset, batch_size=batch_size, pin_memory=pin_memory, \n",
    "            num_workers=num_workers, drop_last=False, shuffle=True)\n",
    "    return dataloader"
   ]
  },
  {
   "cell_type": "markdown",
   "metadata": {},
   "source": [
    "Read in pickle file from wherever you stored it"
   ]
  },
  {
   "cell_type": "code",
   "execution_count": null,
   "metadata": {},
   "outputs": [],
   "source": [
    "df = pd.read_pickle(f\"{PATH}\")"
   ]
  },
  {
   "cell_type": "markdown",
   "metadata": {},
   "source": [
    "Now change the img_path to be where you stored the images"
   ]
  },
  {
   "cell_type": "code",
   "execution_count": null,
   "metadata": {},
   "outputs": [],
   "source": [
    "df['img_path'].apply(lambda x: \"HARD_PATH_TO_IMG_FOLDER\" + x[15:])\n",
    "                                            # DONT TOUCH THE SPLICE"
   ]
  },
  {
   "cell_type": "markdown",
   "metadata": {},
   "source": [
    "Create our partition to get the testing data then create the dataloader for test"
   ]
  },
  {
   "cell_type": "code",
   "execution_count": null,
   "metadata": {},
   "outputs": [],
   "source": [
    "param_dict = {'epoch': 5, 'patience': 10, 'lr': 0.1, 'clip': 1, 'batch_size': 16, 'weight_decay': 1e-06, 'model': 'VisualBert', 'T_max': 5, 'seed': 64, 'weights': torch.Tensor([0.3667, 0.6333]), 'label2id': {'Negative': 0, 'Positive': 1}, 'id2label': {0: 'Negative', 1: 'Positive'}}\n",
    "model_param = {'input_dim': 2, 'output_dim': 2, 'lstm_layers': 1, 'hidden_layers': [300]}"
   ]
  },
  {
   "cell_type": "code",
   "execution_count": null,
   "metadata": {},
   "outputs": [],
   "source": [
    "df_train, df_test, _, __ = train_test_split(df, df[\"label\"], test_size = 0.25, random_state = param_dict['seed'] , stratify=df[\"label\"])\n",
    "dataloader_test = prepare_dataloader(df_test , batch_size=param_dict[\"batch_size\"])"
   ]
  },
  {
   "cell_type": "markdown",
   "metadata": {},
   "source": [
    "Evaluate the model"
   ]
  },
  {
   "cell_type": "code",
   "execution_count": null,
   "metadata": {},
   "outputs": [],
   "source": [
    "id2label = {0: 'Negative', 1: 'Positive'}\n",
    "# Metric = Metrics(num_classes = 2, id2label = id2label) #CPU\n",
    "Metric = Metrics(num_classes = 2, id2label = id2label , rank = \"cuda\") # GPUlocation = <PATH YOU WANT TO SEE TEST RESULTS>\n",
    "evaluate_vbert(model, df_test, Metric , location )"
   ]
  },
  {
   "cell_type": "code",
   "execution_count": null,
   "metadata": {},
   "outputs": [],
   "source": [
    "with open(location) as f:\n",
    "    lines = f.readlines()"
   ]
  },
  {
   "cell_type": "markdown",
   "metadata": {},
   "source": [
    "At the very end of the file you can find a confusino matrix"
   ]
  }
 ],
 "metadata": {
  "kernelspec": {
   "display_name": "Python 3.7.7 ('sarcasm_venv')",
   "language": "python",
   "name": "python3"
  },
  "language_info": {
   "codemirror_mode": {
    "name": "ipython",
    "version": 3
   },
   "file_extension": ".py",
   "mimetype": "text/x-python",
   "name": "python",
   "nbconvert_exporter": "python",
   "pygments_lexer": "ipython3",
   "version": "3.7.7"
  },
  "orig_nbformat": 4,
  "vscode": {
   "interpreter": {
    "hash": "682255e32c8b7c7832e1c984c03ff3b577376f85199a15f316109068883e84f2"
   }
  }
 },
 "nbformat": 4,
 "nbformat_minor": 2
}
