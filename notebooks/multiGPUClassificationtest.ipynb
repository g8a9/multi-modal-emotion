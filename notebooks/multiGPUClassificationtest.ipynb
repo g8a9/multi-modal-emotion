{
 "cells": [
  {
   "cell_type": "code",
   "execution_count": 1,
   "metadata": {},
   "outputs": [
    {
     "name": "stderr",
     "output_type": "stream",
     "text": [
      "/home/prsood/projects/def-whkchun/prsood/sarcasm_venv/lib/python3.7/site-packages/tqdm/auto.py:22: TqdmWarning: IProgress not found. Please update jupyter and ipywidgets. See https://ipywidgets.readthedocs.io/en/stable/user_install.html\n",
      "  from .autonotebook import tqdm as notebook_tqdm\n"
     ]
    }
   ],
   "source": [
    "import torch"
   ]
  },
  {
   "cell_type": "code",
   "execution_count": 2,
   "metadata": {},
   "outputs": [],
   "source": [
    "x = torch.Tensor([[ 4,  0,  0,  0,  0,  0, 12],\n",
    "        [ 0,  0,  0,  0,  1,  0,  2],\n",
    "        [ 1,  0,  0,  0,  0,  0,  1],\n",
    "        [ 0,  0,  0,  0,  0,  0,  1],\n",
    "        [ 0,  0,  0,  0,  1,  0,  4],\n",
    "        [ 0,  0,  0,  0,  0,  1,  0],\n",
    "        [ 3,  1,  0,  0,  0,  0,  4]])"
   ]
  },
  {
   "cell_type": "code",
   "execution_count": 3,
   "metadata": {},
   "outputs": [
    {
     "data": {
      "text/plain": [
       "tensor(36.)"
      ]
     },
     "execution_count": 3,
     "metadata": {},
     "output_type": "execute_result"
    }
   ],
   "source": [
    "x.sum()"
   ]
  },
  {
   "cell_type": "code",
   "execution_count": 4,
   "metadata": {},
   "outputs": [
    {
     "data": {
      "text/plain": [
       "40"
      ]
     },
     "execution_count": 4,
     "metadata": {},
     "output_type": "execute_result"
    }
   ],
   "source": [
    "8*5"
   ]
  },
  {
   "cell_type": "code",
   "execution_count": 2,
   "metadata": {},
   "outputs": [
    {
     "data": {
      "text/plain": [
       "tensor(7508.)"
      ]
     },
     "execution_count": 2,
     "metadata": {},
     "output_type": "execute_result"
    }
   ],
   "source": [
    "v1 = torch.Tensor([[1219,  550,  144,  343,  698,  127,  449],\n",
    "        [ 308,  119,   33,   95,  195,   23,  125],\n",
    "        [  75,   29,   12,   13,   42,    5,   21],\n",
    "        [ 194,   82,   15,   56,  110,   10,   83],\n",
    "        [ 444,  189,   51,  107,  247,   38,  182],\n",
    "        [  72,   30,   10,   16,   39,    8,   22],\n",
    "        [ 302,  114,   32,   89,  185,   23,  133]])\n",
    "v1.sum()"
   ]
  },
  {
   "cell_type": "code",
   "execution_count": 5,
   "metadata": {},
   "outputs": [
    {
     "data": {
      "text/plain": [
       "tensor(7508.)"
      ]
     },
     "execution_count": 5,
     "metadata": {},
     "output_type": "execute_result"
    }
   ],
   "source": [
    "v1 = torch.Tensor([[1491,  469,  138,  218,  660,   99,  455],\n",
    "        [ 372,  115,   27,   63,  192,   27,  102],\n",
    "        [  82,   28,    8,   13,   39,    4,   23],\n",
    "        [ 219,   64,   21,   36,  113,   23,   74],\n",
    "        [ 542,  160,   32,   75,  263,   39,  147],\n",
    "        [  92,   19,    8,    8,   41,    5,   24],\n",
    "        [ 363,  106,   27,   61,  192,   25,  104]])\n",
    "v1.sum()"
   ]
  },
  {
   "cell_type": "code",
   "execution_count": 6,
   "metadata": {},
   "outputs": [],
   "source": [
    "v2 = torch.Tensor(\n",
    "   [[ 0, 20,  0,  0,  0,  0,  0],\n",
    "        [ 0,  2,  0,  0,  0,  0,  0],\n",
    "        [ 0,  0,  0,  0,  0,  0,  0],\n",
    "        [ 0,  1,  0,  0,  0,  0,  0],\n",
    "        [ 0,  8,  0,  0,  0,  0,  0],\n",
    "        [ 0,  0,  0,  0,  0,  0,  0],\n",
    "        [ 0,  4,  0,  0,  0,  0,  0]]) "
   ]
  },
  {
   "cell_type": "code",
   "execution_count": 7,
   "metadata": {},
   "outputs": [
    {
     "data": {
      "text/plain": [
       "tensor(35.)"
      ]
     },
     "execution_count": 7,
     "metadata": {},
     "output_type": "execute_result"
    }
   ],
   "source": [
    "v2.sum()"
   ]
  },
  {
   "cell_type": "code",
   "execution_count": null,
   "metadata": {},
   "outputs": [],
   "source": []
  }
 ],
 "metadata": {
  "kernelspec": {
   "display_name": "Python 3.7.7 ('sarcasm_venv')",
   "language": "python",
   "name": "python3"
  },
  "language_info": {
   "codemirror_mode": {
    "name": "ipython",
    "version": 3
   },
   "file_extension": ".py",
   "mimetype": "text/x-python",
   "name": "python",
   "nbconvert_exporter": "python",
   "pygments_lexer": "ipython3",
   "version": "3.7.7"
  },
  "orig_nbformat": 4,
  "vscode": {
   "interpreter": {
    "hash": "682255e32c8b7c7832e1c984c03ff3b577376f85199a15f316109068883e84f2"
   }
  }
 },
 "nbformat": 4,
 "nbformat_minor": 2
}
