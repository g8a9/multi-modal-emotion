{
 "cells": [
  {
   "cell_type": "code",
   "execution_count": 4,
   "metadata": {},
   "outputs": [
    {
     "name": "stderr",
     "output_type": "stream",
     "text": [
      "/home/prsood/projects/def-whkchun/prsood/sarcasm_venv/lib/python3.7/site-packages/tqdm/auto.py:22: TqdmWarning: IProgress not found. Please update jupyter and ipywidgets. See https://ipywidgets.readthedocs.io/en/stable/user_install.html\n",
      "  from .autonotebook import tqdm as notebook_tqdm\n"
     ]
    }
   ],
   "source": [
    "import pandas as pd\n",
    "import torchaudio\n",
    "from transformers import Wav2Vec2Processor\n",
    "from tqdm import tqdm\n",
    "tqdm.pandas()\n"
   ]
  },
  {
   "cell_type": "code",
   "execution_count": 2,
   "metadata": {},
   "outputs": [],
   "source": [
    "def speech_file_to_array_fn(path , target_sampling_rate):\n",
    "\n",
    "    speech_array, sampling_rate = torchaudio.load(path)\n",
    "    resampler = torchaudio.transforms.Resample(sampling_rate, target_sampling_rate)\n",
    "    speech = resampler(speech_array).squeeze().numpy()\n",
    "    return speech"
   ]
  },
  {
   "cell_type": "code",
   "execution_count": null,
   "metadata": {},
   "outputs": [],
   "source": []
  },
  {
   "cell_type": "code",
   "execution_count": 3,
   "metadata": {},
   "outputs": [],
   "source": [
    "model_path = \"facebook/wav2vec2-large-960h\"\n",
    "processor = Wav2Vec2Processor.from_pretrained(model_path)\n",
    "target_sampling_rate = processor.feature_extractor.sampling_rate"
   ]
  },
  {
   "cell_type": "code",
   "execution_count": 5,
   "metadata": {},
   "outputs": [],
   "source": [
    "def shape(path , target_sampling_rate):\n",
    "    inp = [speech_file_to_array_fn(path , target_sampling_rate)]\n",
    "    result = processor(inp, sampling_rate=target_sampling_rate )\n",
    "    result = result['input_values'][0]\n",
    "    return result"
   ]
  },
  {
   "cell_type": "code",
   "execution_count": 7,
   "metadata": {},
   "outputs": [
    {
     "data": {
      "text/plain": [
       "'../../data/train_splits_wav/dia0_utt0.wav'"
      ]
     },
     "execution_count": 7,
     "metadata": {},
     "output_type": "execute_result"
    }
   ],
   "source": [
    "df = pd.read_pickle(\"../data/emotion_audio_text.pkl\")\n",
    "df['path'][0]"
   ]
  },
  {
   "cell_type": "code",
   "execution_count": 7,
   "metadata": {},
   "outputs": [
    {
     "data": {
      "text/plain": [
       "36181"
      ]
     },
     "execution_count": 7,
     "metadata": {},
     "output_type": "execute_result"
    }
   ],
   "source": [
    "speech_file_to_array_fn(\"../data/test_splits_wav/dia0_utt0.wav\" , target_sampling_rate).shape[1]"
   ]
  },
  {
   "cell_type": "code",
   "execution_count": 8,
   "metadata": {},
   "outputs": [
    {
     "name": "stderr",
     "output_type": "stream",
     "text": [
      "100%|██████████| 13704/13704 [05:33<00:00, 41.07it/s]\n"
     ]
    }
   ],
   "source": [
    "df['audio_shape'] = df['path'].progress_apply(lambda x: shape(x[3:] , target_sampling_rate).shape[1])"
   ]
  },
  {
   "cell_type": "code",
   "execution_count": 9,
   "metadata": {},
   "outputs": [
    {
     "data": {
      "text/html": [
       "<div>\n",
       "<style scoped>\n",
       "    .dataframe tbody tr th:only-of-type {\n",
       "        vertical-align: middle;\n",
       "    }\n",
       "\n",
       "    .dataframe tbody tr th {\n",
       "        vertical-align: top;\n",
       "    }\n",
       "\n",
       "    .dataframe thead th {\n",
       "        text-align: right;\n",
       "    }\n",
       "</style>\n",
       "<table border=\"1\" class=\"dataframe\">\n",
       "  <thead>\n",
       "    <tr style=\"text-align: right;\">\n",
       "      <th></th>\n",
       "      <th>emotion</th>\n",
       "      <th>dialog</th>\n",
       "      <th>utterance</th>\n",
       "      <th>text</th>\n",
       "      <th>num_words</th>\n",
       "      <th>split</th>\n",
       "      <th>path</th>\n",
       "      <th>name</th>\n",
       "      <th>label</th>\n",
       "      <th>num_channels</th>\n",
       "      <th>audio_shape</th>\n",
       "    </tr>\n",
       "  </thead>\n",
       "  <tbody>\n",
       "    <tr>\n",
       "      <th>0</th>\n",
       "      <td>0</td>\n",
       "      <td>0</td>\n",
       "      <td>0</td>\n",
       "      <td>also i was the point person on my company s tr...</td>\n",
       "      <td>19</td>\n",
       "      <td>train</td>\n",
       "      <td>../../data/train_splits_wav/dia0_utt0.wav</td>\n",
       "      <td>dia0_utt0</td>\n",
       "      <td>neutral</td>\n",
       "      <td>2</td>\n",
       "      <td>90795</td>\n",
       "    </tr>\n",
       "    <tr>\n",
       "      <th>1</th>\n",
       "      <td>0</td>\n",
       "      <td>0</td>\n",
       "      <td>1</td>\n",
       "      <td>you must ve had your hands full</td>\n",
       "      <td>7</td>\n",
       "      <td>train</td>\n",
       "      <td>../../data/train_splits_wav/dia0_utt1.wav</td>\n",
       "      <td>dia0_utt1</td>\n",
       "      <td>neutral</td>\n",
       "      <td>2</td>\n",
       "      <td>23552</td>\n",
       "    </tr>\n",
       "    <tr>\n",
       "      <th>2</th>\n",
       "      <td>0</td>\n",
       "      <td>0</td>\n",
       "      <td>2</td>\n",
       "      <td>that i did that i did</td>\n",
       "      <td>6</td>\n",
       "      <td>train</td>\n",
       "      <td>../../data/train_splits_wav/dia0_utt2.wav</td>\n",
       "      <td>dia0_utt2</td>\n",
       "      <td>neutral</td>\n",
       "      <td>2</td>\n",
       "      <td>47104</td>\n",
       "    </tr>\n",
       "    <tr>\n",
       "      <th>3</th>\n",
       "      <td>0</td>\n",
       "      <td>0</td>\n",
       "      <td>3</td>\n",
       "      <td>so let s talk a little bit about your duties</td>\n",
       "      <td>10</td>\n",
       "      <td>train</td>\n",
       "      <td>../../data/train_splits_wav/dia0_utt3.wav</td>\n",
       "      <td>dia0_utt3</td>\n",
       "      <td>neutral</td>\n",
       "      <td>2</td>\n",
       "      <td>44373</td>\n",
       "    </tr>\n",
       "    <tr>\n",
       "      <th>4</th>\n",
       "      <td>0</td>\n",
       "      <td>0</td>\n",
       "      <td>5</td>\n",
       "      <td>now you ll be heading a whole division , so yo...</td>\n",
       "      <td>17</td>\n",
       "      <td>train</td>\n",
       "      <td>../../data/train_splits_wav/dia0_utt5.wav</td>\n",
       "      <td>dia0_utt5</td>\n",
       "      <td>neutral</td>\n",
       "      <td>2</td>\n",
       "      <td>51541</td>\n",
       "    </tr>\n",
       "    <tr>\n",
       "      <th>...</th>\n",
       "      <td>...</td>\n",
       "      <td>...</td>\n",
       "      <td>...</td>\n",
       "      <td>...</td>\n",
       "      <td>...</td>\n",
       "      <td>...</td>\n",
       "      <td>...</td>\n",
       "      <td>...</td>\n",
       "      <td>...</td>\n",
       "      <td>...</td>\n",
       "      <td>...</td>\n",
       "    </tr>\n",
       "    <tr>\n",
       "      <th>13703</th>\n",
       "      <td>6</td>\n",
       "      <td>279</td>\n",
       "      <td>2</td>\n",
       "      <td>you stole them from me !</td>\n",
       "      <td>6</td>\n",
       "      <td>test</td>\n",
       "      <td>../../data/test_splits_wav/dia279_utt2.wav</td>\n",
       "      <td>dia279_utt2</td>\n",
       "      <td>anger</td>\n",
       "      <td>6</td>\n",
       "      <td>14677</td>\n",
       "    </tr>\n",
       "    <tr>\n",
       "      <th>13704</th>\n",
       "      <td>6</td>\n",
       "      <td>279</td>\n",
       "      <td>3</td>\n",
       "      <td>you stole them from me ! !</td>\n",
       "      <td>7</td>\n",
       "      <td>test</td>\n",
       "      <td>../../data/test_splits_wav/dia279_utt3.wav</td>\n",
       "      <td>dia279_utt3</td>\n",
       "      <td>anger</td>\n",
       "      <td>6</td>\n",
       "      <td>19797</td>\n",
       "    </tr>\n",
       "    <tr>\n",
       "      <th>13705</th>\n",
       "      <td>6</td>\n",
       "      <td>279</td>\n",
       "      <td>4</td>\n",
       "      <td>gimme them !</td>\n",
       "      <td>3</td>\n",
       "      <td>test</td>\n",
       "      <td>../../data/test_splits_wav/dia279_utt4.wav</td>\n",
       "      <td>dia279_utt4</td>\n",
       "      <td>anger</td>\n",
       "      <td>6</td>\n",
       "      <td>25600</td>\n",
       "    </tr>\n",
       "    <tr>\n",
       "      <th>13706</th>\n",
       "      <td>6</td>\n",
       "      <td>279</td>\n",
       "      <td>7</td>\n",
       "      <td>look , i really need some help , okay ? why ? ...</td>\n",
       "      <td>29</td>\n",
       "      <td>test</td>\n",
       "      <td>../../data/test_splits_wav/dia279_utt7.wav</td>\n",
       "      <td>dia279_utt7</td>\n",
       "      <td>anger</td>\n",
       "      <td>6</td>\n",
       "      <td>134827</td>\n",
       "    </tr>\n",
       "    <tr>\n",
       "      <th>13707</th>\n",
       "      <td>6</td>\n",
       "      <td>279</td>\n",
       "      <td>10</td>\n",
       "      <td>yeah , fade the accent out and people will thi...</td>\n",
       "      <td>24</td>\n",
       "      <td>test</td>\n",
       "      <td>../../data/test_splits_wav/dia279_utt10.wav</td>\n",
       "      <td>dia279_utt10</td>\n",
       "      <td>anger</td>\n",
       "      <td>6</td>\n",
       "      <td>109568</td>\n",
       "    </tr>\n",
       "  </tbody>\n",
       "</table>\n",
       "<p>13704 rows × 11 columns</p>\n",
       "</div>"
      ],
      "text/plain": [
       "       emotion dialog utterance  \\\n",
       "0            0      0         0   \n",
       "1            0      0         1   \n",
       "2            0      0         2   \n",
       "3            0      0         3   \n",
       "4            0      0         5   \n",
       "...        ...    ...       ...   \n",
       "13703        6    279         2   \n",
       "13704        6    279         3   \n",
       "13705        6    279         4   \n",
       "13706        6    279         7   \n",
       "13707        6    279        10   \n",
       "\n",
       "                                                    text  num_words  split  \\\n",
       "0      also i was the point person on my company s tr...         19  train   \n",
       "1                        you must ve had your hands full          7  train   \n",
       "2                                  that i did that i did          6  train   \n",
       "3           so let s talk a little bit about your duties         10  train   \n",
       "4      now you ll be heading a whole division , so yo...         17  train   \n",
       "...                                                  ...        ...    ...   \n",
       "13703                           you stole them from me !          6   test   \n",
       "13704                         you stole them from me ! !          7   test   \n",
       "13705                                       gimme them !          3   test   \n",
       "13706  look , i really need some help , okay ? why ? ...         29   test   \n",
       "13707  yeah , fade the accent out and people will thi...         24   test   \n",
       "\n",
       "                                              path          name    label  \\\n",
       "0        ../../data/train_splits_wav/dia0_utt0.wav     dia0_utt0  neutral   \n",
       "1        ../../data/train_splits_wav/dia0_utt1.wav     dia0_utt1  neutral   \n",
       "2        ../../data/train_splits_wav/dia0_utt2.wav     dia0_utt2  neutral   \n",
       "3        ../../data/train_splits_wav/dia0_utt3.wav     dia0_utt3  neutral   \n",
       "4        ../../data/train_splits_wav/dia0_utt5.wav     dia0_utt5  neutral   \n",
       "...                                            ...           ...      ...   \n",
       "13703   ../../data/test_splits_wav/dia279_utt2.wav   dia279_utt2    anger   \n",
       "13704   ../../data/test_splits_wav/dia279_utt3.wav   dia279_utt3    anger   \n",
       "13705   ../../data/test_splits_wav/dia279_utt4.wav   dia279_utt4    anger   \n",
       "13706   ../../data/test_splits_wav/dia279_utt7.wav   dia279_utt7    anger   \n",
       "13707  ../../data/test_splits_wav/dia279_utt10.wav  dia279_utt10    anger   \n",
       "\n",
       "       num_channels  audio_shape  \n",
       "0                 2        90795  \n",
       "1                 2        23552  \n",
       "2                 2        47104  \n",
       "3                 2        44373  \n",
       "4                 2        51541  \n",
       "...             ...          ...  \n",
       "13703             6        14677  \n",
       "13704             6        19797  \n",
       "13705             6        25600  \n",
       "13706             6       134827  \n",
       "13707             6       109568  \n",
       "\n",
       "[13704 rows x 11 columns]"
      ]
     },
     "execution_count": 9,
     "metadata": {},
     "output_type": "execute_result"
    }
   ],
   "source": [
    "df"
   ]
  },
  {
   "cell_type": "code",
   "execution_count": 10,
   "metadata": {},
   "outputs": [],
   "source": [
    "df.to_pickle(\"../data/emotion_audio_text.pkl\")"
   ]
  },
  {
   "cell_type": "code",
   "execution_count": 11,
   "metadata": {},
   "outputs": [],
   "source": [
    "df_6 = df[df['num_channels'] == 6]"
   ]
  },
  {
   "cell_type": "code",
   "execution_count": 12,
   "metadata": {},
   "outputs": [
    {
     "data": {
      "text/plain": [
       "(12107, 13704)"
      ]
     },
     "execution_count": 12,
     "metadata": {},
     "output_type": "execute_result"
    }
   ],
   "source": [
    "len(df_6) , len(df)"
   ]
  },
  {
   "cell_type": "code",
   "execution_count": 13,
   "metadata": {},
   "outputs": [],
   "source": [
    "lst = []\n",
    "for val in df_6['audio_shape'].values:\n",
    "    lst.append(val)\n",
    "    "
   ]
  },
  {
   "cell_type": "code",
   "execution_count": 24,
   "metadata": {},
   "outputs": [
    {
     "data": {
      "text/plain": [
       "4879360"
      ]
     },
     "execution_count": 24,
     "metadata": {},
     "output_type": "execute_result"
    }
   ],
   "source": [
    "max(lst)"
   ]
  },
  {
   "cell_type": "markdown",
   "metadata": {},
   "source": [
    "4879360 -> 5 minutes and 4 seconds \\\\\n",
    "3761152 -> 3 minutes 55 seconds \\\\\n",
    " 656725 -> 41 seconds \\\\\n",
    " 321877 -> 20 seconds \\\\\n"
   ]
  },
  {
   "cell_type": "code",
   "execution_count": 19,
   "metadata": {},
   "outputs": [],
   "source": [
    "df_time_sorted = df.sort_values('audio_shape' , ascending=False)"
   ]
  },
  {
   "cell_type": "code",
   "execution_count": 25,
   "metadata": {},
   "outputs": [
    {
     "data": {
      "text/html": [
       "<div>\n",
       "<style scoped>\n",
       "    .dataframe tbody tr th:only-of-type {\n",
       "        vertical-align: middle;\n",
       "    }\n",
       "\n",
       "    .dataframe tbody tr th {\n",
       "        vertical-align: top;\n",
       "    }\n",
       "\n",
       "    .dataframe thead th {\n",
       "        text-align: right;\n",
       "    }\n",
       "</style>\n",
       "<table border=\"1\" class=\"dataframe\">\n",
       "  <thead>\n",
       "    <tr style=\"text-align: right;\">\n",
       "      <th></th>\n",
       "      <th>emotion</th>\n",
       "      <th>dialog</th>\n",
       "      <th>utterance</th>\n",
       "      <th>text</th>\n",
       "      <th>num_words</th>\n",
       "      <th>split</th>\n",
       "      <th>path</th>\n",
       "      <th>name</th>\n",
       "      <th>label</th>\n",
       "      <th>num_channels</th>\n",
       "      <th>audio_shape</th>\n",
       "    </tr>\n",
       "  </thead>\n",
       "  <tbody>\n",
       "    <tr>\n",
       "      <th>11396</th>\n",
       "      <td>4</td>\n",
       "      <td>38</td>\n",
       "      <td>4</td>\n",
       "      <td>oh it s great , it s a role on</td>\n",
       "      <td>10</td>\n",
       "      <td>test</td>\n",
       "      <td>../../data/test_splits_wav/dia38_utt4.wav</td>\n",
       "      <td>dia38_utt4</td>\n",
       "      <td>joy</td>\n",
       "      <td>6</td>\n",
       "      <td>4879360</td>\n",
       "    </tr>\n",
       "    <tr>\n",
       "      <th>12087</th>\n",
       "      <td>5</td>\n",
       "      <td>220</td>\n",
       "      <td>0</td>\n",
       "      <td>what s that smell ?</td>\n",
       "      <td>5</td>\n",
       "      <td>test</td>\n",
       "      <td>../../data/test_splits_wav/dia220_utt0.wav</td>\n",
       "      <td>dia220_utt0</td>\n",
       "      <td>disgust</td>\n",
       "      <td>6</td>\n",
       "      <td>3761152</td>\n",
       "    </tr>\n",
       "    <tr>\n",
       "      <th>9943</th>\n",
       "      <td>4</td>\n",
       "      <td>309</td>\n",
       "      <td>0</td>\n",
       "      <td>kathy ! kathy ! hi ! ! kathy ! kathy ! ( she d...</td>\n",
       "      <td>29</td>\n",
       "      <td>train</td>\n",
       "      <td>../../data/train_splits_wav/dia309_utt0.wav</td>\n",
       "      <td>dia309_utt0</td>\n",
       "      <td>joy</td>\n",
       "      <td>6</td>\n",
       "      <td>656725</td>\n",
       "    </tr>\n",
       "    <tr>\n",
       "      <th>13321</th>\n",
       "      <td>6</td>\n",
       "      <td>74</td>\n",
       "      <td>19</td>\n",
       "      <td>i m pregnant ross ? ross ? okay , whenever you...</td>\n",
       "      <td>25</td>\n",
       "      <td>val</td>\n",
       "      <td>../../data/val_splits_wav/dia74_utt19.wav</td>\n",
       "      <td>dia74_utt19</td>\n",
       "      <td>anger</td>\n",
       "      <td>2</td>\n",
       "      <td>456704</td>\n",
       "    </tr>\n",
       "    <tr>\n",
       "      <th>10195</th>\n",
       "      <td>4</td>\n",
       "      <td>485</td>\n",
       "      <td>0</td>\n",
       "      <td>hey , this heyy</td>\n",
       "      <td>4</td>\n",
       "      <td>train</td>\n",
       "      <td>../../data/train_splits_wav/dia485_utt0.wav</td>\n",
       "      <td>dia485_utt0</td>\n",
       "      <td>joy</td>\n",
       "      <td>6</td>\n",
       "      <td>412672</td>\n",
       "    </tr>\n",
       "    <tr>\n",
       "      <th>...</th>\n",
       "      <td>...</td>\n",
       "      <td>...</td>\n",
       "      <td>...</td>\n",
       "      <td>...</td>\n",
       "      <td>...</td>\n",
       "      <td>...</td>\n",
       "      <td>...</td>\n",
       "      <td>...</td>\n",
       "      <td>...</td>\n",
       "      <td>...</td>\n",
       "      <td>...</td>\n",
       "    </tr>\n",
       "    <tr>\n",
       "      <th>10253</th>\n",
       "      <td>4</td>\n",
       "      <td>523</td>\n",
       "      <td>10</td>\n",
       "      <td>hi pheebs !</td>\n",
       "      <td>3</td>\n",
       "      <td>train</td>\n",
       "      <td>../../data/train_splits_wav/dia523_utt10.wav</td>\n",
       "      <td>dia523_utt10</td>\n",
       "      <td>joy</td>\n",
       "      <td>6</td>\n",
       "      <td>1024</td>\n",
       "    </tr>\n",
       "    <tr>\n",
       "      <th>12429</th>\n",
       "      <td>6</td>\n",
       "      <td>312</td>\n",
       "      <td>9</td>\n",
       "      <td>noo !</td>\n",
       "      <td>2</td>\n",
       "      <td>train</td>\n",
       "      <td>../../data/train_splits_wav/dia312_utt9.wav</td>\n",
       "      <td>dia312_utt9</td>\n",
       "      <td>anger</td>\n",
       "      <td>6</td>\n",
       "      <td>1024</td>\n",
       "    </tr>\n",
       "    <tr>\n",
       "      <th>1477</th>\n",
       "      <td>0</td>\n",
       "      <td>332</td>\n",
       "      <td>1</td>\n",
       "      <td>shh</td>\n",
       "      <td>1</td>\n",
       "      <td>train</td>\n",
       "      <td>../../data/train_splits_wav/dia332_utt1.wav</td>\n",
       "      <td>dia332_utt1</td>\n",
       "      <td>neutral</td>\n",
       "      <td>2</td>\n",
       "      <td>1024</td>\n",
       "    </tr>\n",
       "    <tr>\n",
       "      <th>790</th>\n",
       "      <td>0</td>\n",
       "      <td>179</td>\n",
       "      <td>8</td>\n",
       "      <td>sagittarius ?</td>\n",
       "      <td>2</td>\n",
       "      <td>train</td>\n",
       "      <td>../../data/train_splits_wav/dia179_utt8.wav</td>\n",
       "      <td>dia179_utt8</td>\n",
       "      <td>neutral</td>\n",
       "      <td>6</td>\n",
       "      <td>1024</td>\n",
       "    </tr>\n",
       "    <tr>\n",
       "      <th>327</th>\n",
       "      <td>0</td>\n",
       "      <td>71</td>\n",
       "      <td>0</td>\n",
       "      <td>pheebs ?</td>\n",
       "      <td>2</td>\n",
       "      <td>train</td>\n",
       "      <td>../../data/train_splits_wav/dia71_utt0.wav</td>\n",
       "      <td>dia71_utt0</td>\n",
       "      <td>neutral</td>\n",
       "      <td>6</td>\n",
       "      <td>1024</td>\n",
       "    </tr>\n",
       "  </tbody>\n",
       "</table>\n",
       "<p>13704 rows × 11 columns</p>\n",
       "</div>"
      ],
      "text/plain": [
       "       emotion dialog utterance  \\\n",
       "11396        4     38         4   \n",
       "12087        5    220         0   \n",
       "9943         4    309         0   \n",
       "13321        6     74        19   \n",
       "10195        4    485         0   \n",
       "...        ...    ...       ...   \n",
       "10253        4    523        10   \n",
       "12429        6    312         9   \n",
       "1477         0    332         1   \n",
       "790          0    179         8   \n",
       "327          0     71         0   \n",
       "\n",
       "                                                    text  num_words  split  \\\n",
       "11396                     oh it s great , it s a role on         10   test   \n",
       "12087                                what s that smell ?          5   test   \n",
       "9943   kathy ! kathy ! hi ! ! kathy ! kathy ! ( she d...         29  train   \n",
       "13321  i m pregnant ross ? ross ? okay , whenever you...         25    val   \n",
       "10195                                    hey , this heyy          4  train   \n",
       "...                                                  ...        ...    ...   \n",
       "10253                                        hi pheebs !          3  train   \n",
       "12429                                              noo !          2  train   \n",
       "1477                                                 shh          1  train   \n",
       "790                                        sagittarius ?          2  train   \n",
       "327                                             pheebs ?          2  train   \n",
       "\n",
       "                                               path          name    label  \\\n",
       "11396     ../../data/test_splits_wav/dia38_utt4.wav    dia38_utt4      joy   \n",
       "12087    ../../data/test_splits_wav/dia220_utt0.wav   dia220_utt0  disgust   \n",
       "9943    ../../data/train_splits_wav/dia309_utt0.wav   dia309_utt0      joy   \n",
       "13321     ../../data/val_splits_wav/dia74_utt19.wav   dia74_utt19    anger   \n",
       "10195   ../../data/train_splits_wav/dia485_utt0.wav   dia485_utt0      joy   \n",
       "...                                             ...           ...      ...   \n",
       "10253  ../../data/train_splits_wav/dia523_utt10.wav  dia523_utt10      joy   \n",
       "12429   ../../data/train_splits_wav/dia312_utt9.wav   dia312_utt9    anger   \n",
       "1477    ../../data/train_splits_wav/dia332_utt1.wav   dia332_utt1  neutral   \n",
       "790     ../../data/train_splits_wav/dia179_utt8.wav   dia179_utt8  neutral   \n",
       "327      ../../data/train_splits_wav/dia71_utt0.wav    dia71_utt0  neutral   \n",
       "\n",
       "       num_channels  audio_shape  \n",
       "11396             6      4879360  \n",
       "12087             6      3761152  \n",
       "9943              6       656725  \n",
       "13321             2       456704  \n",
       "10195             6       412672  \n",
       "...             ...          ...  \n",
       "10253             6         1024  \n",
       "12429             6         1024  \n",
       "1477              2         1024  \n",
       "790               6         1024  \n",
       "327               6         1024  \n",
       "\n",
       "[13704 rows x 11 columns]"
      ]
     },
     "execution_count": 25,
     "metadata": {},
     "output_type": "execute_result"
    }
   ],
   "source": [
    "df_time_sorted"
   ]
  },
  {
   "cell_type": "code",
   "execution_count": 34,
   "metadata": {},
   "outputs": [],
   "source": [
    "df_time_sorted['size_padding'] = df['num_channels'] * df['audio_shape']"
   ]
  },
  {
   "cell_type": "code",
   "execution_count": 38,
   "metadata": {},
   "outputs": [],
   "source": [
    "df_padding_sorted = df_time_sorted.sort_values(\"size_padding\" , ascending=False)"
   ]
  },
  {
   "cell_type": "code",
   "execution_count": 43,
   "metadata": {},
   "outputs": [
    {
     "data": {
      "text/html": [
       "<div>\n",
       "<style scoped>\n",
       "    .dataframe tbody tr th:only-of-type {\n",
       "        vertical-align: middle;\n",
       "    }\n",
       "\n",
       "    .dataframe tbody tr th {\n",
       "        vertical-align: top;\n",
       "    }\n",
       "\n",
       "    .dataframe thead th {\n",
       "        text-align: right;\n",
       "    }\n",
       "</style>\n",
       "<table border=\"1\" class=\"dataframe\">\n",
       "  <thead>\n",
       "    <tr style=\"text-align: right;\">\n",
       "      <th></th>\n",
       "      <th>emotion</th>\n",
       "      <th>dialog</th>\n",
       "      <th>utterance</th>\n",
       "      <th>text</th>\n",
       "      <th>num_words</th>\n",
       "      <th>split</th>\n",
       "      <th>path</th>\n",
       "      <th>name</th>\n",
       "      <th>label</th>\n",
       "      <th>num_channels</th>\n",
       "      <th>audio_shape</th>\n",
       "      <th>size_padding</th>\n",
       "    </tr>\n",
       "  </thead>\n",
       "  <tbody>\n",
       "    <tr>\n",
       "      <th>8535</th>\n",
       "      <td>3</td>\n",
       "      <td>216</td>\n",
       "      <td>0</td>\n",
       "      <td>hey , uh , i m really , really sorry about wha...</td>\n",
       "      <td>17</td>\n",
       "      <td>train</td>\n",
       "      <td>../../data/train_splits_wav/dia216_utt0.wav</td>\n",
       "      <td>dia216_utt0</td>\n",
       "      <td>sadness</td>\n",
       "      <td>6</td>\n",
       "      <td>166571</td>\n",
       "      <td>999426</td>\n",
       "    </tr>\n",
       "    <tr>\n",
       "      <th>9128</th>\n",
       "      <td>3</td>\n",
       "      <td>19</td>\n",
       "      <td>18</td>\n",
       "      <td>i mean , well , 'cause when i was growing up ,...</td>\n",
       "      <td>43</td>\n",
       "      <td>val</td>\n",
       "      <td>../../data/val_splits_wav/dia19_utt18.wav</td>\n",
       "      <td>dia19_utt18</td>\n",
       "      <td>sadness</td>\n",
       "      <td>6</td>\n",
       "      <td>166229</td>\n",
       "      <td>997374</td>\n",
       "    </tr>\n",
       "    <tr>\n",
       "      <th>6246</th>\n",
       "      <td>0</td>\n",
       "      <td>243</td>\n",
       "      <td>3</td>\n",
       "      <td>okay , very cute braces anyway y know what , the</td>\n",
       "      <td>11</td>\n",
       "      <td>test</td>\n",
       "      <td>../../data/test_splits_wav/dia243_utt3.wav</td>\n",
       "      <td>dia243_utt3</td>\n",
       "      <td>neutral</td>\n",
       "      <td>6</td>\n",
       "      <td>166229</td>\n",
       "      <td>997374</td>\n",
       "    </tr>\n",
       "    <tr>\n",
       "      <th>8074</th>\n",
       "      <td>2</td>\n",
       "      <td>12</td>\n",
       "      <td>6</td>\n",
       "      <td>well , i i got this blinding pain in my stomac...</td>\n",
       "      <td>34</td>\n",
       "      <td>train</td>\n",
       "      <td>../../data/train_splits_wav/dia12_utt6.wav</td>\n",
       "      <td>dia12_utt6</td>\n",
       "      <td>fear</td>\n",
       "      <td>6</td>\n",
       "      <td>166229</td>\n",
       "      <td>997374</td>\n",
       "    </tr>\n",
       "    <tr>\n",
       "      <th>7650</th>\n",
       "      <td>1</td>\n",
       "      <td>4</td>\n",
       "      <td>11</td>\n",
       "      <td>ross geller , why do i know that name ? it s u...</td>\n",
       "      <td>20</td>\n",
       "      <td>val</td>\n",
       "      <td>../../data/val_splits_wav/dia4_utt11.wav</td>\n",
       "      <td>dia4_utt11</td>\n",
       "      <td>surprise</td>\n",
       "      <td>6</td>\n",
       "      <td>166229</td>\n",
       "      <td>997374</td>\n",
       "    </tr>\n",
       "    <tr>\n",
       "      <th>...</th>\n",
       "      <td>...</td>\n",
       "      <td>...</td>\n",
       "      <td>...</td>\n",
       "      <td>...</td>\n",
       "      <td>...</td>\n",
       "      <td>...</td>\n",
       "      <td>...</td>\n",
       "      <td>...</td>\n",
       "      <td>...</td>\n",
       "      <td>...</td>\n",
       "      <td>...</td>\n",
       "      <td>...</td>\n",
       "    </tr>\n",
       "    <tr>\n",
       "      <th>7037</th>\n",
       "      <td>1</td>\n",
       "      <td>516</td>\n",
       "      <td>2</td>\n",
       "      <td>oh i m sorry ! do you need a break ?</td>\n",
       "      <td>11</td>\n",
       "      <td>train</td>\n",
       "      <td>../../data/train_splits_wav/dia516_utt2.wav</td>\n",
       "      <td>dia516_utt2</td>\n",
       "      <td>surprise</td>\n",
       "      <td>2</td>\n",
       "      <td>2048</td>\n",
       "      <td>4096</td>\n",
       "    </tr>\n",
       "    <tr>\n",
       "      <th>7031</th>\n",
       "      <td>1</td>\n",
       "      <td>509</td>\n",
       "      <td>14</td>\n",
       "      <td>ow ! ow ! contraction ow ow ! ow ow !</td>\n",
       "      <td>11</td>\n",
       "      <td>train</td>\n",
       "      <td>../../data/train_splits_wav/dia509_utt14.wav</td>\n",
       "      <td>dia509_utt14</td>\n",
       "      <td>surprise</td>\n",
       "      <td>2</td>\n",
       "      <td>2048</td>\n",
       "      <td>4096</td>\n",
       "    </tr>\n",
       "    <tr>\n",
       "      <th>10167</th>\n",
       "      <td>4</td>\n",
       "      <td>468</td>\n",
       "      <td>4</td>\n",
       "      <td>i m so glad you could make it</td>\n",
       "      <td>8</td>\n",
       "      <td>train</td>\n",
       "      <td>../../data/train_splits_wav/dia468_utt4.wav</td>\n",
       "      <td>dia468_utt4</td>\n",
       "      <td>joy</td>\n",
       "      <td>2</td>\n",
       "      <td>2048</td>\n",
       "      <td>4096</td>\n",
       "    </tr>\n",
       "    <tr>\n",
       "      <th>9618</th>\n",
       "      <td>4</td>\n",
       "      <td>103</td>\n",
       "      <td>6</td>\n",
       "      <td>i love hiking !</td>\n",
       "      <td>4</td>\n",
       "      <td>train</td>\n",
       "      <td>../../data/train_splits_wav/dia103_utt6.wav</td>\n",
       "      <td>dia103_utt6</td>\n",
       "      <td>joy</td>\n",
       "      <td>2</td>\n",
       "      <td>2048</td>\n",
       "      <td>4096</td>\n",
       "    </tr>\n",
       "    <tr>\n",
       "      <th>1477</th>\n",
       "      <td>0</td>\n",
       "      <td>332</td>\n",
       "      <td>1</td>\n",
       "      <td>shh</td>\n",
       "      <td>1</td>\n",
       "      <td>train</td>\n",
       "      <td>../../data/train_splits_wav/dia332_utt1.wav</td>\n",
       "      <td>dia332_utt1</td>\n",
       "      <td>neutral</td>\n",
       "      <td>2</td>\n",
       "      <td>1024</td>\n",
       "      <td>2048</td>\n",
       "    </tr>\n",
       "  </tbody>\n",
       "</table>\n",
       "<p>13506 rows × 12 columns</p>\n",
       "</div>"
      ],
      "text/plain": [
       "       emotion dialog utterance  \\\n",
       "8535         3    216         0   \n",
       "9128         3     19        18   \n",
       "6246         0    243         3   \n",
       "8074         2     12         6   \n",
       "7650         1      4        11   \n",
       "...        ...    ...       ...   \n",
       "7037         1    516         2   \n",
       "7031         1    509        14   \n",
       "10167        4    468         4   \n",
       "9618         4    103         6   \n",
       "1477         0    332         1   \n",
       "\n",
       "                                                    text  num_words  split  \\\n",
       "8535   hey , uh , i m really , really sorry about wha...         17  train   \n",
       "9128   i mean , well , 'cause when i was growing up ,...         43    val   \n",
       "6246    okay , very cute braces anyway y know what , the         11   test   \n",
       "8074   well , i i got this blinding pain in my stomac...         34  train   \n",
       "7650   ross geller , why do i know that name ? it s u...         20    val   \n",
       "...                                                  ...        ...    ...   \n",
       "7037                oh i m sorry ! do you need a break ?         11  train   \n",
       "7031               ow ! ow ! contraction ow ow ! ow ow !         11  train   \n",
       "10167                      i m so glad you could make it          8  train   \n",
       "9618                                     i love hiking !          4  train   \n",
       "1477                                                 shh          1  train   \n",
       "\n",
       "                                               path          name     label  \\\n",
       "8535    ../../data/train_splits_wav/dia216_utt0.wav   dia216_utt0   sadness   \n",
       "9128      ../../data/val_splits_wav/dia19_utt18.wav   dia19_utt18   sadness   \n",
       "6246     ../../data/test_splits_wav/dia243_utt3.wav   dia243_utt3   neutral   \n",
       "8074     ../../data/train_splits_wav/dia12_utt6.wav    dia12_utt6      fear   \n",
       "7650       ../../data/val_splits_wav/dia4_utt11.wav    dia4_utt11  surprise   \n",
       "...                                             ...           ...       ...   \n",
       "7037    ../../data/train_splits_wav/dia516_utt2.wav   dia516_utt2  surprise   \n",
       "7031   ../../data/train_splits_wav/dia509_utt14.wav  dia509_utt14  surprise   \n",
       "10167   ../../data/train_splits_wav/dia468_utt4.wav   dia468_utt4       joy   \n",
       "9618    ../../data/train_splits_wav/dia103_utt6.wav   dia103_utt6       joy   \n",
       "1477    ../../data/train_splits_wav/dia332_utt1.wav   dia332_utt1   neutral   \n",
       "\n",
       "       num_channels  audio_shape  size_padding  \n",
       "8535              6       166571        999426  \n",
       "9128              6       166229        997374  \n",
       "6246              6       166229        997374  \n",
       "8074              6       166229        997374  \n",
       "7650              6       166229        997374  \n",
       "...             ...          ...           ...  \n",
       "7037              2         2048          4096  \n",
       "7031              2         2048          4096  \n",
       "10167             2         2048          4096  \n",
       "9618              2         2048          4096  \n",
       "1477              2         1024          2048  \n",
       "\n",
       "[13506 rows x 12 columns]"
      ]
     },
     "execution_count": 43,
     "metadata": {},
     "output_type": "execute_result"
    }
   ],
   "source": [
    "df_padding_sorted[df_padding_sorted[\"size_padding\"] < 1000000  ]"
   ]
  },
  {
   "cell_type": "code",
   "execution_count": 44,
   "metadata": {},
   "outputs": [],
   "source": [
    "df_padding_sorted.to_pickle(\"../data/emotion_audio_text.pkl\")"
   ]
  },
  {
   "cell_type": "code",
   "execution_count": 48,
   "metadata": {},
   "outputs": [
    {
     "data": {
      "text/html": [
       "<div>\n",
       "<style scoped>\n",
       "    .dataframe tbody tr th:only-of-type {\n",
       "        vertical-align: middle;\n",
       "    }\n",
       "\n",
       "    .dataframe tbody tr th {\n",
       "        vertical-align: top;\n",
       "    }\n",
       "\n",
       "    .dataframe thead th {\n",
       "        text-align: right;\n",
       "    }\n",
       "</style>\n",
       "<table border=\"1\" class=\"dataframe\">\n",
       "  <thead>\n",
       "    <tr style=\"text-align: right;\">\n",
       "      <th></th>\n",
       "      <th>emotion</th>\n",
       "      <th>dialog</th>\n",
       "      <th>utterance</th>\n",
       "      <th>text</th>\n",
       "      <th>num_words</th>\n",
       "      <th>split</th>\n",
       "      <th>path</th>\n",
       "      <th>name</th>\n",
       "      <th>label</th>\n",
       "      <th>num_channels</th>\n",
       "      <th>audio_shape</th>\n",
       "      <th>size_padding</th>\n",
       "    </tr>\n",
       "  </thead>\n",
       "  <tbody>\n",
       "    <tr>\n",
       "      <th>11396</th>\n",
       "      <td>4</td>\n",
       "      <td>38</td>\n",
       "      <td>4</td>\n",
       "      <td>oh it s great , it s a role on</td>\n",
       "      <td>10</td>\n",
       "      <td>test</td>\n",
       "      <td>../../data/test_splits_wav/dia38_utt4.wav</td>\n",
       "      <td>dia38_utt4</td>\n",
       "      <td>joy</td>\n",
       "      <td>6</td>\n",
       "      <td>4879360</td>\n",
       "      <td>29276160</td>\n",
       "    </tr>\n",
       "    <tr>\n",
       "      <th>12087</th>\n",
       "      <td>5</td>\n",
       "      <td>220</td>\n",
       "      <td>0</td>\n",
       "      <td>what s that smell ?</td>\n",
       "      <td>5</td>\n",
       "      <td>test</td>\n",
       "      <td>../../data/test_splits_wav/dia220_utt0.wav</td>\n",
       "      <td>dia220_utt0</td>\n",
       "      <td>disgust</td>\n",
       "      <td>6</td>\n",
       "      <td>3761152</td>\n",
       "      <td>22566912</td>\n",
       "    </tr>\n",
       "    <tr>\n",
       "      <th>9943</th>\n",
       "      <td>4</td>\n",
       "      <td>309</td>\n",
       "      <td>0</td>\n",
       "      <td>kathy ! kathy ! hi ! ! kathy ! kathy ! ( she d...</td>\n",
       "      <td>29</td>\n",
       "      <td>train</td>\n",
       "      <td>../../data/train_splits_wav/dia309_utt0.wav</td>\n",
       "      <td>dia309_utt0</td>\n",
       "      <td>joy</td>\n",
       "      <td>6</td>\n",
       "      <td>656725</td>\n",
       "      <td>3940350</td>\n",
       "    </tr>\n",
       "    <tr>\n",
       "      <th>10195</th>\n",
       "      <td>4</td>\n",
       "      <td>485</td>\n",
       "      <td>0</td>\n",
       "      <td>hey , this heyy</td>\n",
       "      <td>4</td>\n",
       "      <td>train</td>\n",
       "      <td>../../data/train_splits_wav/dia485_utt0.wav</td>\n",
       "      <td>dia485_utt0</td>\n",
       "      <td>joy</td>\n",
       "      <td>6</td>\n",
       "      <td>412672</td>\n",
       "      <td>2476032</td>\n",
       "    </tr>\n",
       "    <tr>\n",
       "      <th>3411</th>\n",
       "      <td>0</td>\n",
       "      <td>757</td>\n",
       "      <td>2</td>\n",
       "      <td>y'know , i do n't know if you 've ever looked ...</td>\n",
       "      <td>50</td>\n",
       "      <td>train</td>\n",
       "      <td>../../data/train_splits_wav/dia757_utt2.wav</td>\n",
       "      <td>dia757_utt2</td>\n",
       "      <td>neutral</td>\n",
       "      <td>6</td>\n",
       "      <td>388437</td>\n",
       "      <td>2330622</td>\n",
       "    </tr>\n",
       "    <tr>\n",
       "      <th>...</th>\n",
       "      <td>...</td>\n",
       "      <td>...</td>\n",
       "      <td>...</td>\n",
       "      <td>...</td>\n",
       "      <td>...</td>\n",
       "      <td>...</td>\n",
       "      <td>...</td>\n",
       "      <td>...</td>\n",
       "      <td>...</td>\n",
       "      <td>...</td>\n",
       "      <td>...</td>\n",
       "      <td>...</td>\n",
       "    </tr>\n",
       "    <tr>\n",
       "      <th>7037</th>\n",
       "      <td>1</td>\n",
       "      <td>516</td>\n",
       "      <td>2</td>\n",
       "      <td>oh i m sorry ! do you need a break ?</td>\n",
       "      <td>11</td>\n",
       "      <td>train</td>\n",
       "      <td>../../data/train_splits_wav/dia516_utt2.wav</td>\n",
       "      <td>dia516_utt2</td>\n",
       "      <td>surprise</td>\n",
       "      <td>2</td>\n",
       "      <td>2048</td>\n",
       "      <td>4096</td>\n",
       "    </tr>\n",
       "    <tr>\n",
       "      <th>7031</th>\n",
       "      <td>1</td>\n",
       "      <td>509</td>\n",
       "      <td>14</td>\n",
       "      <td>ow ! ow ! contraction ow ow ! ow ow !</td>\n",
       "      <td>11</td>\n",
       "      <td>train</td>\n",
       "      <td>../../data/train_splits_wav/dia509_utt14.wav</td>\n",
       "      <td>dia509_utt14</td>\n",
       "      <td>surprise</td>\n",
       "      <td>2</td>\n",
       "      <td>2048</td>\n",
       "      <td>4096</td>\n",
       "    </tr>\n",
       "    <tr>\n",
       "      <th>10167</th>\n",
       "      <td>4</td>\n",
       "      <td>468</td>\n",
       "      <td>4</td>\n",
       "      <td>i m so glad you could make it</td>\n",
       "      <td>8</td>\n",
       "      <td>train</td>\n",
       "      <td>../../data/train_splits_wav/dia468_utt4.wav</td>\n",
       "      <td>dia468_utt4</td>\n",
       "      <td>joy</td>\n",
       "      <td>2</td>\n",
       "      <td>2048</td>\n",
       "      <td>4096</td>\n",
       "    </tr>\n",
       "    <tr>\n",
       "      <th>9618</th>\n",
       "      <td>4</td>\n",
       "      <td>103</td>\n",
       "      <td>6</td>\n",
       "      <td>i love hiking !</td>\n",
       "      <td>4</td>\n",
       "      <td>train</td>\n",
       "      <td>../../data/train_splits_wav/dia103_utt6.wav</td>\n",
       "      <td>dia103_utt6</td>\n",
       "      <td>joy</td>\n",
       "      <td>2</td>\n",
       "      <td>2048</td>\n",
       "      <td>4096</td>\n",
       "    </tr>\n",
       "    <tr>\n",
       "      <th>1477</th>\n",
       "      <td>0</td>\n",
       "      <td>332</td>\n",
       "      <td>1</td>\n",
       "      <td>shh</td>\n",
       "      <td>1</td>\n",
       "      <td>train</td>\n",
       "      <td>../../data/train_splits_wav/dia332_utt1.wav</td>\n",
       "      <td>dia332_utt1</td>\n",
       "      <td>neutral</td>\n",
       "      <td>2</td>\n",
       "      <td>1024</td>\n",
       "      <td>2048</td>\n",
       "    </tr>\n",
       "  </tbody>\n",
       "</table>\n",
       "<p>13704 rows × 12 columns</p>\n",
       "</div>"
      ],
      "text/plain": [
       "       emotion dialog utterance  \\\n",
       "11396        4     38         4   \n",
       "12087        5    220         0   \n",
       "9943         4    309         0   \n",
       "10195        4    485         0   \n",
       "3411         0    757         2   \n",
       "...        ...    ...       ...   \n",
       "7037         1    516         2   \n",
       "7031         1    509        14   \n",
       "10167        4    468         4   \n",
       "9618         4    103         6   \n",
       "1477         0    332         1   \n",
       "\n",
       "                                                    text  num_words  split  \\\n",
       "11396                     oh it s great , it s a role on         10   test   \n",
       "12087                                what s that smell ?          5   test   \n",
       "9943   kathy ! kathy ! hi ! ! kathy ! kathy ! ( she d...         29  train   \n",
       "10195                                    hey , this heyy          4  train   \n",
       "3411   y'know , i do n't know if you 've ever looked ...         50  train   \n",
       "...                                                  ...        ...    ...   \n",
       "7037                oh i m sorry ! do you need a break ?         11  train   \n",
       "7031               ow ! ow ! contraction ow ow ! ow ow !         11  train   \n",
       "10167                      i m so glad you could make it          8  train   \n",
       "9618                                     i love hiking !          4  train   \n",
       "1477                                                 shh          1  train   \n",
       "\n",
       "                                               path          name     label  \\\n",
       "11396     ../../data/test_splits_wav/dia38_utt4.wav    dia38_utt4       joy   \n",
       "12087    ../../data/test_splits_wav/dia220_utt0.wav   dia220_utt0   disgust   \n",
       "9943    ../../data/train_splits_wav/dia309_utt0.wav   dia309_utt0       joy   \n",
       "10195   ../../data/train_splits_wav/dia485_utt0.wav   dia485_utt0       joy   \n",
       "3411    ../../data/train_splits_wav/dia757_utt2.wav   dia757_utt2   neutral   \n",
       "...                                             ...           ...       ...   \n",
       "7037    ../../data/train_splits_wav/dia516_utt2.wav   dia516_utt2  surprise   \n",
       "7031   ../../data/train_splits_wav/dia509_utt14.wav  dia509_utt14  surprise   \n",
       "10167   ../../data/train_splits_wav/dia468_utt4.wav   dia468_utt4       joy   \n",
       "9618    ../../data/train_splits_wav/dia103_utt6.wav   dia103_utt6       joy   \n",
       "1477    ../../data/train_splits_wav/dia332_utt1.wav   dia332_utt1   neutral   \n",
       "\n",
       "       num_channels  audio_shape  size_padding  \n",
       "11396             6      4879360      29276160  \n",
       "12087             6      3761152      22566912  \n",
       "9943              6       656725       3940350  \n",
       "10195             6       412672       2476032  \n",
       "3411              6       388437       2330622  \n",
       "...             ...          ...           ...  \n",
       "7037              2         2048          4096  \n",
       "7031              2         2048          4096  \n",
       "10167             2         2048          4096  \n",
       "9618              2         2048          4096  \n",
       "1477              2         1024          2048  \n",
       "\n",
       "[13704 rows x 12 columns]"
      ]
     },
     "execution_count": 48,
     "metadata": {},
     "output_type": "execute_result"
    }
   ],
   "source": [
    "pd.read_pickle(\"/home/prsood/projects/def-whkchun/prsood/multi-modal-emotion/data/emotion_audio_text.pkl\")"
   ]
  },
  {
   "cell_type": "code",
   "execution_count": 5,
   "metadata": {},
   "outputs": [
    {
     "data": {
      "text/html": [
       "<div>\n",
       "<style scoped>\n",
       "    .dataframe tbody tr th:only-of-type {\n",
       "        vertical-align: middle;\n",
       "    }\n",
       "\n",
       "    .dataframe tbody tr th {\n",
       "        vertical-align: top;\n",
       "    }\n",
       "\n",
       "    .dataframe thead th {\n",
       "        text-align: right;\n",
       "    }\n",
       "</style>\n",
       "<table border=\"1\" class=\"dataframe\">\n",
       "  <thead>\n",
       "    <tr style=\"text-align: right;\">\n",
       "      <th></th>\n",
       "      <th>Sr No.</th>\n",
       "      <th>Utterance</th>\n",
       "      <th>Speaker</th>\n",
       "      <th>Emotion</th>\n",
       "      <th>Sentiment</th>\n",
       "      <th>Dialogue_ID</th>\n",
       "      <th>Utterance_ID</th>\n",
       "      <th>Season</th>\n",
       "      <th>Episode</th>\n",
       "      <th>StartTime</th>\n",
       "      <th>EndTime</th>\n",
       "    </tr>\n",
       "  </thead>\n",
       "  <tbody>\n",
       "    <tr>\n",
       "      <th>0</th>\n",
       "      <td>1</td>\n",
       "      <td>also I was the point person on my companys tr...</td>\n",
       "      <td>Chandler</td>\n",
       "      <td>neutral</td>\n",
       "      <td>neutral</td>\n",
       "      <td>0</td>\n",
       "      <td>0</td>\n",
       "      <td>8</td>\n",
       "      <td>21</td>\n",
       "      <td>00:16:16,059</td>\n",
       "      <td>00:16:21,731</td>\n",
       "    </tr>\n",
       "    <tr>\n",
       "      <th>1</th>\n",
       "      <td>2</td>\n",
       "      <td>You mustve had your hands full.</td>\n",
       "      <td>The Interviewer</td>\n",
       "      <td>neutral</td>\n",
       "      <td>neutral</td>\n",
       "      <td>0</td>\n",
       "      <td>1</td>\n",
       "      <td>8</td>\n",
       "      <td>21</td>\n",
       "      <td>00:16:21,940</td>\n",
       "      <td>00:16:23,442</td>\n",
       "    </tr>\n",
       "    <tr>\n",
       "      <th>2</th>\n",
       "      <td>3</td>\n",
       "      <td>That I did. That I did.</td>\n",
       "      <td>Chandler</td>\n",
       "      <td>neutral</td>\n",
       "      <td>neutral</td>\n",
       "      <td>0</td>\n",
       "      <td>2</td>\n",
       "      <td>8</td>\n",
       "      <td>21</td>\n",
       "      <td>00:16:23,442</td>\n",
       "      <td>00:16:26,389</td>\n",
       "    </tr>\n",
       "    <tr>\n",
       "      <th>3</th>\n",
       "      <td>4</td>\n",
       "      <td>So lets talk a little bit about your duties.</td>\n",
       "      <td>The Interviewer</td>\n",
       "      <td>neutral</td>\n",
       "      <td>neutral</td>\n",
       "      <td>0</td>\n",
       "      <td>3</td>\n",
       "      <td>8</td>\n",
       "      <td>21</td>\n",
       "      <td>00:16:26,820</td>\n",
       "      <td>00:16:29,572</td>\n",
       "    </tr>\n",
       "    <tr>\n",
       "      <th>4</th>\n",
       "      <td>5</td>\n",
       "      <td>My duties?  All right.</td>\n",
       "      <td>Chandler</td>\n",
       "      <td>surprise</td>\n",
       "      <td>positive</td>\n",
       "      <td>0</td>\n",
       "      <td>4</td>\n",
       "      <td>8</td>\n",
       "      <td>21</td>\n",
       "      <td>00:16:34,452</td>\n",
       "      <td>00:16:40,917</td>\n",
       "    </tr>\n",
       "    <tr>\n",
       "      <th>...</th>\n",
       "      <td>...</td>\n",
       "      <td>...</td>\n",
       "      <td>...</td>\n",
       "      <td>...</td>\n",
       "      <td>...</td>\n",
       "      <td>...</td>\n",
       "      <td>...</td>\n",
       "      <td>...</td>\n",
       "      <td>...</td>\n",
       "      <td>...</td>\n",
       "      <td>...</td>\n",
       "    </tr>\n",
       "    <tr>\n",
       "      <th>9984</th>\n",
       "      <td>10474</td>\n",
       "      <td>You or me?</td>\n",
       "      <td>Chandler</td>\n",
       "      <td>neutral</td>\n",
       "      <td>neutral</td>\n",
       "      <td>1038</td>\n",
       "      <td>13</td>\n",
       "      <td>2</td>\n",
       "      <td>3</td>\n",
       "      <td>00:00:48,173</td>\n",
       "      <td>00:00:50,799</td>\n",
       "    </tr>\n",
       "    <tr>\n",
       "      <th>9985</th>\n",
       "      <td>10475</td>\n",
       "      <td>I got it. Uh, Joey, women don't have Adam's ap...</td>\n",
       "      <td>Ross</td>\n",
       "      <td>neutral</td>\n",
       "      <td>neutral</td>\n",
       "      <td>1038</td>\n",
       "      <td>14</td>\n",
       "      <td>2</td>\n",
       "      <td>3</td>\n",
       "      <td>00:00:51,009</td>\n",
       "      <td>00:00:53,594</td>\n",
       "    </tr>\n",
       "    <tr>\n",
       "      <th>9986</th>\n",
       "      <td>10476</td>\n",
       "      <td>You guys are messing with me, right?</td>\n",
       "      <td>Joey</td>\n",
       "      <td>surprise</td>\n",
       "      <td>positive</td>\n",
       "      <td>1038</td>\n",
       "      <td>15</td>\n",
       "      <td>2</td>\n",
       "      <td>3</td>\n",
       "      <td>00:01:00,518</td>\n",
       "      <td>00:01:03,520</td>\n",
       "    </tr>\n",
       "    <tr>\n",
       "      <th>9987</th>\n",
       "      <td>10477</td>\n",
       "      <td>Yeah.</td>\n",
       "      <td>All</td>\n",
       "      <td>neutral</td>\n",
       "      <td>neutral</td>\n",
       "      <td>1038</td>\n",
       "      <td>16</td>\n",
       "      <td>2</td>\n",
       "      <td>3</td>\n",
       "      <td>00:01:05,398</td>\n",
       "      <td>00:01:07,274</td>\n",
       "    </tr>\n",
       "    <tr>\n",
       "      <th>9988</th>\n",
       "      <td>10478</td>\n",
       "      <td>That was a good one. For a second there, I was...</td>\n",
       "      <td>Joey</td>\n",
       "      <td>joy</td>\n",
       "      <td>positive</td>\n",
       "      <td>1038</td>\n",
       "      <td>17</td>\n",
       "      <td>2</td>\n",
       "      <td>3</td>\n",
       "      <td>00:01:08,401</td>\n",
       "      <td>00:01:12,071</td>\n",
       "    </tr>\n",
       "  </tbody>\n",
       "</table>\n",
       "<p>9989 rows × 11 columns</p>\n",
       "</div>"
      ],
      "text/plain": [
       "      Sr No.                                          Utterance  \\\n",
       "0          1  also I was the point person on my companys tr...   \n",
       "1          2                   You mustve had your hands full.   \n",
       "2          3                            That I did. That I did.   \n",
       "3          4      So lets talk a little bit about your duties.   \n",
       "4          5                             My duties?  All right.   \n",
       "...      ...                                                ...   \n",
       "9984   10474                                         You or me?   \n",
       "9985   10475  I got it. Uh, Joey, women don't have Adam's ap...   \n",
       "9986   10476               You guys are messing with me, right?   \n",
       "9987   10477                                              Yeah.   \n",
       "9988   10478  That was a good one. For a second there, I was...   \n",
       "\n",
       "              Speaker   Emotion Sentiment  Dialogue_ID  Utterance_ID  Season  \\\n",
       "0            Chandler   neutral   neutral            0             0       8   \n",
       "1     The Interviewer   neutral   neutral            0             1       8   \n",
       "2            Chandler   neutral   neutral            0             2       8   \n",
       "3     The Interviewer   neutral   neutral            0             3       8   \n",
       "4            Chandler  surprise  positive            0             4       8   \n",
       "...               ...       ...       ...          ...           ...     ...   \n",
       "9984         Chandler   neutral   neutral         1038            13       2   \n",
       "9985             Ross   neutral   neutral         1038            14       2   \n",
       "9986             Joey  surprise  positive         1038            15       2   \n",
       "9987              All   neutral   neutral         1038            16       2   \n",
       "9988             Joey       joy  positive         1038            17       2   \n",
       "\n",
       "      Episode     StartTime       EndTime  \n",
       "0          21  00:16:16,059  00:16:21,731  \n",
       "1          21  00:16:21,940  00:16:23,442  \n",
       "2          21  00:16:23,442  00:16:26,389  \n",
       "3          21  00:16:26,820  00:16:29,572  \n",
       "4          21  00:16:34,452  00:16:40,917  \n",
       "...       ...           ...           ...  \n",
       "9984        3  00:00:48,173  00:00:50,799  \n",
       "9985        3  00:00:51,009  00:00:53,594  \n",
       "9986        3  00:01:00,518  00:01:03,520  \n",
       "9987        3  00:01:05,398  00:01:07,274  \n",
       "9988        3  00:01:08,401  00:01:12,071  \n",
       "\n",
       "[9989 rows x 11 columns]"
      ]
     },
     "execution_count": 5,
     "metadata": {},
     "output_type": "execute_result"
    }
   ],
   "source": [
    "pd.read_csv(\"/home/prsood/projects/def-whkchun/prsood/multi-modal-emotion/data/train_sent_emo.csv\")"
   ]
  },
  {
   "cell_type": "code",
   "execution_count": 2,
   "metadata": {},
   "outputs": [],
   "source": [
    "from sklearn.metrics import f1_score,precision_score , recall_score\n",
    "def compute_scores(truth , preds):\n",
    "    f1 = f1_score(truth,preds , average='weighted' , zero_division= 1)\n",
    "    prec = precision_score(truth,preds , average='weighted' , zero_division= 1)\n",
    "    recall = recall_score(truth,preds , average='weighted' , zero_division= 1)\n",
    "    return f1 , prec , recall"
   ]
  },
  {
   "cell_type": "code",
   "execution_count": 1,
   "metadata": {},
   "outputs": [
    {
     "name": "stderr",
     "output_type": "stream",
     "text": [
      "/home/prsood/projects/def-whkchun/prsood/sarcasm_venv/lib/python3.7/site-packages/tqdm/auto.py:22: TqdmWarning: IProgress not found. Please update jupyter and ipywidgets. See https://ipywidgets.readthedocs.io/en/stable/user_install.html\n",
      "  from .autonotebook import tqdm as notebook_tqdm\n"
     ]
    },
    {
     "data": {
      "text/plain": [
       "tensor(0.7778)"
      ]
     },
     "execution_count": 1,
     "metadata": {},
     "output_type": "execute_result"
    }
   ],
   "source": [
    "from torchmetrics.classification import MulticlassF1Score , MulticlassRecall , MulticlassPrecision , MulticlassAccuracy\n",
    "from torchmetrics import MetricCollection\n",
    "import torch\n",
    "target = torch.tensor([2, 1, 0, 0])\n",
    "preds = torch.tensor([2, 1, 0, 1])\n",
    "metric = MulticlassF1Score(num_classes=3)\n",
    "metric(preds, target)"
   ]
  },
  {
   "cell_type": "code",
   "execution_count": 2,
   "metadata": {},
   "outputs": [],
   "source": [
    "metric.update(preds , target)"
   ]
  },
  {
   "cell_type": "code",
   "execution_count": 3,
   "metadata": {},
   "outputs": [
    {
     "data": {
      "text/plain": [
       "tensor(0.7778)"
      ]
     },
     "execution_count": 3,
     "metadata": {},
     "output_type": "execute_result"
    }
   ],
   "source": [
    "metric.compute()"
   ]
  },
  {
   "cell_type": "code",
   "execution_count": 5,
   "metadata": {},
   "outputs": [
    {
     "data": {
      "text/plain": [
       "(0.75, 0.875, 0.75)"
      ]
     },
     "execution_count": 5,
     "metadata": {},
     "output_type": "execute_result"
    }
   ],
   "source": [
    "compute_scores(target , preds)\n"
   ]
  },
  {
   "cell_type": "code",
   "execution_count": 4,
   "metadata": {},
   "outputs": [
    {
     "data": {
      "text/plain": [
       "tensor([0.6667, 0.6667, 1.0000])"
      ]
     },
     "execution_count": 4,
     "metadata": {},
     "output_type": "execute_result"
    }
   ],
   "source": [
    "metric = MulticlassF1Score(num_classes=3, average=None)\n",
    "metric(preds, target)"
   ]
  },
  {
   "cell_type": "code",
   "execution_count": 5,
   "metadata": {},
   "outputs": [
    {
     "data": {
      "text/plain": [
       "tensor([0.6667, 0.6667, 1.0000])"
      ]
     },
     "execution_count": 5,
     "metadata": {},
     "output_type": "execute_result"
    }
   ],
   "source": [
    "metric.update(preds , target)\n",
    "metric.compute()"
   ]
  },
  {
   "cell_type": "code",
   "execution_count": 26,
   "metadata": {},
   "outputs": [
    {
     "data": {
      "text/plain": [
       "odict_keys([])"
      ]
     },
     "execution_count": 26,
     "metadata": {},
     "output_type": "execute_result"
    }
   ],
   "source": [
    "metric."
   ]
  },
  {
   "cell_type": "code",
   "execution_count": 9,
   "metadata": {},
   "outputs": [],
   "source": [
    "metricsMulti = MetricCollection(MulticlassF1Score(3, 1, 'none', 'global', ) , MulticlassRecall(3, 1, 'none', 'global', ) , MulticlassPrecision(3, 1, 'none', 'global', ) , MulticlassAccuracy(3, 1, 'none', 'global', ))\n",
    "metricsScalar = MetricCollection(MulticlassF1Score(3, 1, 'weighted', 'global', ) , MulticlassRecall(3, 1, 'weighted', 'global', ) , MulticlassPrecision(3, 1, 'weighted', 'global', ) , MulticlassAccuracy(3, 1, 'weighted', 'global', ))"
   ]
  },
  {
   "cell_type": "code",
   "execution_count": 10,
   "metadata": {},
   "outputs": [],
   "source": [
    "metricsMulti.update(preds , target)"
   ]
  },
  {
   "cell_type": "code",
   "execution_count": 11,
   "metadata": {},
   "outputs": [
    {
     "data": {
      "text/plain": [
       "{'MulticlassF1Score': tensor([0.6667, 0.6667, 1.0000]),\n",
       " 'MulticlassRecall': tensor([0.5000, 1.0000, 1.0000]),\n",
       " 'MulticlassPrecision': tensor([1.0000, 0.5000, 1.0000]),\n",
       " 'MulticlassAccuracy': tensor([0.5000, 1.0000, 1.0000])}"
      ]
     },
     "execution_count": 11,
     "metadata": {},
     "output_type": "execute_result"
    }
   ],
   "source": [
    "metricsMulti.compute()"
   ]
  },
  {
   "cell_type": "code",
   "execution_count": 18,
   "metadata": {},
   "outputs": [
    {
     "data": {
      "text/plain": [
       "{'MulticlassF1Score': tensor([0.6400, 0.6364, 0.9412]),\n",
       " 'MulticlassRecall': tensor([0.5000, 1.0000, 1.0000]),\n",
       " 'MulticlassPrecision': tensor([1.0000, 0.5000, 1.0000]),\n",
       " 'MulticlassAccuracy': tensor([0.5000, 1.0000, 1.0000])}"
      ]
     },
     "execution_count": 18,
     "metadata": {},
     "output_type": "execute_result"
    }
   ],
   "source": [
    "metricsMulti.update(torch.tensor([2, 0, 0, 1]) , target)\n",
    "metricsMulti.compute()"
   ]
  },
  {
   "cell_type": "markdown",
   "metadata": {},
   "source": [
    "Here i am just checking the multi threading GPUS computed the stuff properly before it got logged\n"
   ]
  },
  {
   "cell_type": "code",
   "execution_count": 12,
   "metadata": {},
   "outputs": [],
   "source": [
    "preds0 = torch.Tensor([4, 1, 4, 3, 4, 4, 3, 3])\n",
    "output0 = torch.Tensor([1., 0., 1., 1., 0., 6., 6., 0.])\n",
    "#  on rank = 0\n",
    "\n",
    "preds1 = torch.Tensor([4, 1, 4, 4, 3, 4, 4, 3])\n",
    "output1 = torch.Tensor([0., 5., 4., 4., 0., 4., 4., 0.])\n",
    "#  on rank = 1\n",
    "\n",
    "preds2 = torch.Tensor([3, 3, 1, 1, 4, 3, 4, 4])\n",
    "output2 = torch.Tensor([3., 4., 3., 6., 3., 0., 0., 0.])\n",
    "#  on rank = 2\n",
    "\n",
    "preds3 = torch.Tensor([4, 4, 4, 3, 4, 3, 1, 1])\n",
    "output3 = torch.Tensor([6., 0., 4., 4., 3., 4., 3., 0.])\n",
    "#  on rank = 3 "
   ]
  },
  {
   "cell_type": "code",
   "execution_count": 20,
   "metadata": {},
   "outputs": [],
   "source": [
    "multiF1 = MulticlassF1Score(7, top_k = 1 , average = 'none' , multidim_average='global', ignore_index=None, validate_args=True)"
   ]
  },
  {
   "cell_type": "code",
   "execution_count": 21,
   "metadata": {},
   "outputs": [
    {
     "data": {
      "text/plain": [
       "tensor([0., 0., 0., 0., 0., 0., 0.])"
      ]
     },
     "execution_count": 21,
     "metadata": {},
     "output_type": "execute_result"
    }
   ],
   "source": [
    "multiF1.update(preds0, output0)\n",
    "multiF1.compute()\n"
   ]
  },
  {
   "cell_type": "code",
   "execution_count": 22,
   "metadata": {},
   "outputs": [
    {
     "data": {
      "text/plain": [
       "tensor([0.0000, 0.0000, 0.0000, 0.0000, 0.6154, 0.0000, 0.0000])"
      ]
     },
     "execution_count": 22,
     "metadata": {},
     "output_type": "execute_result"
    }
   ],
   "source": [
    "multiF1.update(preds1, output1)\n",
    "multiF1.compute()\n"
   ]
  },
  {
   "cell_type": "code",
   "execution_count": 23,
   "metadata": {},
   "outputs": [
    {
     "data": {
      "text/plain": [
       "tensor([0.0000, 0.0000, 0.0000, 0.1818, 0.4706, 0.0000, 0.0000])"
      ]
     },
     "execution_count": 23,
     "metadata": {},
     "output_type": "execute_result"
    }
   ],
   "source": [
    "multiF1.update(preds2, output2)\n",
    "multiF1.compute()\n"
   ]
  },
  {
   "cell_type": "code",
   "execution_count": 24,
   "metadata": {},
   "outputs": [
    {
     "data": {
      "text/plain": [
       "tensor([0.0000, 0.0000, 0.0000, 0.1333, 0.4167, 0.0000, 0.0000])"
      ]
     },
     "execution_count": 24,
     "metadata": {},
     "output_type": "execute_result"
    }
   ],
   "source": [
    "multiF1.update(preds3, output3)\n",
    "multiF1.compute()"
   ]
  },
  {
   "cell_type": "markdown",
   "metadata": {},
   "source": [
    "\"label2id\": {\n",
    "    \"neutral\" \\\\\n",
    "    \"surprise\" \\\\\n",
    "    \"fear\" \\\\\n",
    "    \"sadness\" \\\\\n",
    "    \"joy\" \\\\\n",
    "    \"disgust\" \\\\\n",
    "    \"anger\" \\\\\n",
    "  },"
   ]
  },
  {
   "cell_type": "code",
   "execution_count": 25,
   "metadata": {},
   "outputs": [],
   "source": [
    "valpreds0 =  torch.Tensor([4, 4, 4, 4, 4, 4, 4, 4])\n",
    "valtruth0 =  torch.Tensor([0., 1., 4., 1., 6., 0., 0., 4.])\n",
    "# on rank = 0\n",
    "\n",
    "valpreds1 =  torch.Tensor([4, 4, 4, 4, 4, 4, 4, 4])\n",
    "valtruth1 =  torch.Tensor([4., 0., 4., 1., 4., 1., 6., 0.])\n",
    "# on rank = 1\n",
    "\n",
    "valpreds2 =  torch.Tensor([4, 4, 4, 4, 4, 4, 4, 4])\n",
    "valtruth2 =  torch.Tensor([6., 0., 0., 0., 6., 4., 6., 1.])\n",
    "# on rank = 2\n",
    "\n",
    "valpreds3 =  torch.Tensor([4, 4, 4, 4, 4, 4, 4, 4])\n",
    "valtruth3 =  torch.Tensor([4., 0., 0., 3., 1., 0., 4., 0.])\n",
    "# on rank = 3"
   ]
  },
  {
   "cell_type": "code",
   "execution_count": 35,
   "metadata": {},
   "outputs": [],
   "source": [
    "valmultiF1 = MulticlassF1Score(7, top_k = 1 , average = 'none' , multidim_average='global', ignore_index=None, validate_args=True)"
   ]
  },
  {
   "cell_type": "code",
   "execution_count": 36,
   "metadata": {},
   "outputs": [
    {
     "name": "stderr",
     "output_type": "stream",
     "text": [
      "/home/prsood/projects/def-whkchun/prsood/sarcasm_venv/lib/python3.7/site-packages/torchmetrics/utilities/prints.py:36: UserWarning: The ``compute`` method of metric MulticlassF1Score was called before the ``update`` method which may lead to errors, as metric states have not yet been updated.\n",
      "  warnings.warn(*args, **kwargs)\n"
     ]
    },
    {
     "data": {
      "text/plain": [
       "tensor([0., 0., 0., 0., 0., 0., 0.])"
      ]
     },
     "execution_count": 36,
     "metadata": {},
     "output_type": "execute_result"
    }
   ],
   "source": [
    "valmultiF1.compute()"
   ]
  },
  {
   "cell_type": "code",
   "execution_count": 27,
   "metadata": {},
   "outputs": [
    {
     "data": {
      "text/plain": [
       "tensor([0.0000, 0.0000, 0.0000, 0.1333, 0.4118, 0.0000, 0.0000])"
      ]
     },
     "execution_count": 27,
     "metadata": {},
     "output_type": "execute_result"
    }
   ],
   "source": [
    "multiF1.update(valpreds0, valtruth0)\n",
    "multiF1.compute()"
   ]
  },
  {
   "cell_type": "code",
   "execution_count": 28,
   "metadata": {},
   "outputs": [
    {
     "data": {
      "text/plain": [
       "tensor([0.0000, 0.0000, 0.0000, 0.1333, 0.4444, 0.0000, 0.0000])"
      ]
     },
     "execution_count": 28,
     "metadata": {},
     "output_type": "execute_result"
    }
   ],
   "source": [
    "multiF1.update(valpreds1, valtruth1)\n",
    "multiF1.compute()\n"
   ]
  },
  {
   "cell_type": "code",
   "execution_count": 29,
   "metadata": {},
   "outputs": [
    {
     "data": {
      "text/plain": [
       "tensor([0.0000, 0.0000, 0.0000, 0.1333, 0.4074, 0.0000, 0.0000])"
      ]
     },
     "execution_count": 29,
     "metadata": {},
     "output_type": "execute_result"
    }
   ],
   "source": [
    "multiF1.update(valpreds2, valtruth2)\n",
    "multiF1.compute()\n"
   ]
  },
  {
   "cell_type": "code",
   "execution_count": 30,
   "metadata": {},
   "outputs": [
    {
     "data": {
      "text/plain": [
       "tensor([0.0000, 0.0000, 0.0000, 0.1250, 0.4062, 0.0000, 0.0000])"
      ]
     },
     "execution_count": 30,
     "metadata": {},
     "output_type": "execute_result"
    }
   ],
   "source": [
    "multiF1.update(valpreds3, valtruth3)\n",
    "multiF1.compute()"
   ]
  },
  {
   "cell_type": "markdown",
   "metadata": {},
   "source": [
    "VALIDATES\n"
   ]
  },
  {
   "cell_type": "code",
   "execution_count": 37,
   "metadata": {},
   "outputs": [
    {
     "data": {
      "text/plain": [
       "tensor([0.0000, 0.0000, 0.0000, 0.0000, 0.4000, 0.0000, 0.0000])"
      ]
     },
     "execution_count": 37,
     "metadata": {},
     "output_type": "execute_result"
    }
   ],
   "source": [
    "valmultiF1.update(valpreds0, valtruth0)\n",
    "valmultiF1.compute()"
   ]
  },
  {
   "cell_type": "code",
   "execution_count": 38,
   "metadata": {},
   "outputs": [
    {
     "data": {
      "text/plain": [
       "tensor([0.0000, 0.0000, 0.0000, 0.0000, 0.4762, 0.0000, 0.0000])"
      ]
     },
     "execution_count": 38,
     "metadata": {},
     "output_type": "execute_result"
    }
   ],
   "source": [
    "valmultiF1.update(valpreds1, valtruth1)\n",
    "valmultiF1.compute()"
   ]
  },
  {
   "cell_type": "code",
   "execution_count": 39,
   "metadata": {},
   "outputs": [
    {
     "data": {
      "text/plain": [
       "tensor([0.0000, 0.0000, 0.0000, 0.0000, 0.4000, 0.0000, 0.0000])"
      ]
     },
     "execution_count": 39,
     "metadata": {},
     "output_type": "execute_result"
    }
   ],
   "source": [
    "valmultiF1.update(valpreds2, valtruth2)\n",
    "valmultiF1.compute()"
   ]
  },
  {
   "cell_type": "code",
   "execution_count": 40,
   "metadata": {},
   "outputs": [
    {
     "data": {
      "text/plain": [
       "tensor([0.0000, 0.0000, 0.0000, 0.0000, 0.4000, 0.0000, 0.0000])"
      ]
     },
     "execution_count": 40,
     "metadata": {},
     "output_type": "execute_result"
    }
   ],
   "source": [
    "valmultiF1.update(valpreds3, valtruth3)\n",
    "valmultiF1.compute()"
   ]
  }
 ],
 "metadata": {
  "kernelspec": {
   "display_name": "Python 3.7.7 ('sarcasm_venv')",
   "language": "python",
   "name": "python3"
  },
  "language_info": {
   "codemirror_mode": {
    "name": "ipython",
    "version": 3
   },
   "file_extension": ".py",
   "mimetype": "text/x-python",
   "name": "python",
   "nbconvert_exporter": "python",
   "pygments_lexer": "ipython3",
   "version": "3.7.7"
  },
  "orig_nbformat": 4,
  "vscode": {
   "interpreter": {
    "hash": "682255e32c8b7c7832e1c984c03ff3b577376f85199a15f316109068883e84f2"
   }
  }
 },
 "nbformat": 4,
 "nbformat_minor": 2
}
