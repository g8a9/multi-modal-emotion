{
 "cells": [
  {
   "cell_type": "code",
   "execution_count": 4,
   "metadata": {},
   "outputs": [],
   "source": [
    "import pandas as pd\n",
    "\n",
    "DATA_PATH = \"/Users/pranavsood/Documents/DDI/Gitlab/multi-modal-emotion/data/\""
   ]
  },
  {
   "cell_type": "markdown",
   "metadata": {},
   "source": [
    "As you may notice, there are NaN values. \n",
    "\n",
    "These are from the test set, because the dataset did not label these. \n",
    "\n",
    "So technically the proper way to train is to take another portion out of the training set to become our new \"test\" set. \n",
    "\n",
    "And use the proper test set as the final evaluation of the model."
   ]
  },
  {
   "cell_type": "code",
   "execution_count": 5,
   "metadata": {},
   "outputs": [
    {
     "data": {
      "text/html": "<div>\n<style scoped>\n    .dataframe tbody tr th:only-of-type {\n        vertical-align: middle;\n    }\n\n    .dataframe tbody tr th {\n        vertical-align: top;\n    }\n\n    .dataframe thead th {\n        text-align: right;\n    }\n</style>\n<table border=\"1\" class=\"dataframe\">\n  <thead>\n    <tr style=\"text-align: right;\">\n      <th></th>\n      <th>img_path</th>\n      <th>label</th>\n      <th>text</th>\n      <th>split</th>\n    </tr>\n  </thead>\n  <tbody>\n    <tr>\n      <th>0</th>\n      <td>img/08291.png</td>\n      <td>1.0</td>\n      <td>white people is this a shooting range</td>\n      <td>val</td>\n    </tr>\n    <tr>\n      <th>1</th>\n      <td>img/46971.png</td>\n      <td>1.0</td>\n      <td>bravery at its finest</td>\n      <td>val</td>\n    </tr>\n    <tr>\n      <th>2</th>\n      <td>img/03745.png</td>\n      <td>1.0</td>\n      <td>your order comes to $37.50 and your white priv...</td>\n      <td>val</td>\n    </tr>\n    <tr>\n      <th>3</th>\n      <td>img/83745.png</td>\n      <td>1.0</td>\n      <td>it is time.. to send these parasites back to t...</td>\n      <td>val</td>\n    </tr>\n    <tr>\n      <th>4</th>\n      <td>img/80243.png</td>\n      <td>1.0</td>\n      <td>mississippi wind chime</td>\n      <td>val</td>\n    </tr>\n    <tr>\n      <th>...</th>\n      <td>...</td>\n      <td>...</td>\n      <td>...</td>\n      <td>...</td>\n    </tr>\n    <tr>\n      <th>995</th>\n      <td>img/03869.png</td>\n      <td>NaN</td>\n      <td>a mother's love for the child is a divine thing</td>\n      <td>test</td>\n    </tr>\n    <tr>\n      <th>996</th>\n      <td>img/23817.png</td>\n      <td>NaN</td>\n      <td>sea monkeys</td>\n      <td>test</td>\n    </tr>\n    <tr>\n      <th>997</th>\n      <td>img/56280.png</td>\n      <td>NaN</td>\n      <td>little miss muffet sat on her tuffet</td>\n      <td>test</td>\n    </tr>\n    <tr>\n      <th>998</th>\n      <td>img/29384.png</td>\n      <td>NaN</td>\n      <td>they're in a row</td>\n      <td>test</td>\n    </tr>\n    <tr>\n      <th>999</th>\n      <td>img/34127.png</td>\n      <td>NaN</td>\n      <td>that feeling when you win a fifa game after be...</td>\n      <td>test</td>\n    </tr>\n  </tbody>\n</table>\n<p>10000 rows × 4 columns</p>\n</div>",
      "text/plain": "          img_path  label                                               text  \\\n0    img/08291.png    1.0              white people is this a shooting range   \n1    img/46971.png    1.0                              bravery at its finest   \n2    img/03745.png    1.0  your order comes to $37.50 and your white priv...   \n3    img/83745.png    1.0  it is time.. to send these parasites back to t...   \n4    img/80243.png    1.0                             mississippi wind chime   \n..             ...    ...                                                ...   \n995  img/03869.png    NaN    a mother's love for the child is a divine thing   \n996  img/23817.png    NaN                                        sea monkeys   \n997  img/56280.png    NaN               little miss muffet sat on her tuffet   \n998  img/29384.png    NaN                                   they're in a row   \n999  img/34127.png    NaN  that feeling when you win a fifa game after be...   \n\n    split  \n0     val  \n1     val  \n2     val  \n3     val  \n4     val  \n..    ...  \n995  test  \n996  test  \n997  test  \n998  test  \n999  test  \n\n[10000 rows x 4 columns]"
     },
     "execution_count": 5,
     "metadata": {},
     "output_type": "execute_result"
    }
   ],
   "source": [
    "pd.read_pickle(f\"{DATA_PATH}HatefulMemes.pkl\")"
   ]
  }
 ],
 "metadata": {
  "kernelspec": {
   "display_name": "Python 3.7.12 64-bit",
   "name": "python3712jvsc74a57bd0ab1f2462a336e5b267859bcaec323d7994b03498b5a527fd46415c4b3e1c800d"
  },
  "language_info": {
   "codemirror_mode": {
    "name": "ipython",
    "version": 3
   },
   "file_extension": ".py",
   "mimetype": "text/x-python",
   "name": "python",
   "nbconvert_exporter": "python",
   "pygments_lexer": "ipython3",
   "version": "3.7.12"
  },
  "orig_nbformat": 2
 },
 "nbformat": 4,
 "nbformat_minor": 2
}