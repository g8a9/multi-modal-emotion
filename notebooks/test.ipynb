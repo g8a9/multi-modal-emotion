{
 "cells": [
  {
   "cell_type": "code",
   "execution_count": 38,
   "metadata": {},
   "outputs": [],
   "source": [
    "import torch.nn.functional as F\n",
    "import torch\n",
    "import pickle\n",
    "from torch.nn.functional import pad\n",
    "import io"
   ]
  },
  {
   "cell_type": "code",
   "execution_count": 22,
   "metadata": {},
   "outputs": [],
   "source": [
    "class CPU_Unpickler(pickle.Unpickler):\n",
    "    def find_class(self, module, name):\n",
    "        if module == 'torch.storage' and name == '_load_from_bytes':\n",
    "            return lambda b: torch.load(io.BytesIO(b), map_location='cpu')\n",
    "        else:\n",
    "            return super().find_class(module, name)"
   ]
  },
  {
   "cell_type": "code",
   "execution_count": 11,
   "metadata": {},
   "outputs": [
    {
     "name": "stdout",
     "output_type": "stream",
     "text": [
      "torch.Size([2, 146, 768])\n"
     ]
    }
   ],
   "source": [
    "data = torch.ones((2 , 73 , 768))\n",
    "# [2, 73, 768] , [2, 146, 768]\n",
    "# pad(left, right, top, bottom)\n",
    "max_dim = 146\n",
    "curr_dim = data.shape[1]\n",
    "new_data = F.pad(input=data, pad=(0, 0, 0 , max_dim-curr_dim), mode='constant', value=0)\n",
    "print(new_data.shape)"
   ]
  },
  {
   "cell_type": "code",
   "execution_count": 33,
   "metadata": {},
   "outputs": [],
   "source": [
    "with open( \"../../data/train_wav/1_2.pkl\" , 'rb') as pickle_file:\n",
    "    df1 = CPU_Unpickler(pickle_file).load()\n",
    "\n",
    "with open( \"../../data/train_wav/2_3.pkl\" , 'rb') as pickle_file:\n",
    "    df2 = CPU_Unpickler(pickle_file).load()\n",
    "\n",
    "\n"
   ]
  },
  {
   "cell_type": "code",
   "execution_count": 34,
   "metadata": {},
   "outputs": [],
   "source": [
    "audio_feature_1 = df1.iloc[0][\"wav2vec_features\"]\n",
    "audio_feature_2 = df2.iloc[0][\"wav2vec_features\"]"
   ]
  },
  {
   "cell_type": "code",
   "execution_count": 37,
   "metadata": {},
   "outputs": [
    {
     "name": "stdout",
     "output_type": "stream",
     "text": [
      "1 : torch.Size([2, 73, 768])\n",
      "2 : torch.Size([2, 146, 768])\n"
     ]
    }
   ],
   "source": [
    "print(f\"1 : {audio_feature_1[0].shape}\")\n",
    "print(f\"2 : {audio_feature_2[0].shape}\")\n",
    "\n",
    "# for tens in audio_feature_1:\n",
    "#     print(f\"1: {tens.shape}\")\n",
    "# for tens in audio_feature_2:\n",
    "#     print(f\"2: {tens.shape}\")"
   ]
  },
  {
   "cell_type": "code",
   "execution_count": 40,
   "metadata": {},
   "outputs": [],
   "source": [
    "max_dim = 146\n",
    "curr_dim = 73"
   ]
  },
  {
   "cell_type": "code",
   "execution_count": 41,
   "metadata": {},
   "outputs": [],
   "source": [
    "new_feature = [   pad(input=audio_feature, pad=(0, 0, 0 , max_dim-curr_dim), mode='constant', value=0) for audio_feature in audio_feature_1 ]\n",
    "\n",
    "\n"
   ]
  },
  {
   "cell_type": "code",
   "execution_count": 42,
   "metadata": {},
   "outputs": [
    {
     "name": "stdout",
     "output_type": "stream",
     "text": [
      "2: torch.Size([2, 146, 768])\n",
      "2: torch.Size([2, 146, 768])\n",
      "2: torch.Size([2, 146, 768])\n",
      "2: torch.Size([2, 146, 768])\n",
      "2: torch.Size([2, 146, 768])\n",
      "2: torch.Size([2, 146, 768])\n",
      "2: torch.Size([2, 146, 768])\n",
      "2: torch.Size([2, 146, 768])\n",
      "2: torch.Size([2, 146, 768])\n",
      "2: torch.Size([2, 146, 768])\n",
      "2: torch.Size([2, 146, 768])\n",
      "2: torch.Size([2, 146, 768])\n"
     ]
    }
   ],
   "source": [
    "for tens in new_feature:\n",
    "    print(f\"2: {tens.shape}\")"
   ]
  }
 ],
 "metadata": {
  "kernelspec": {
   "display_name": "Python 3.7.12 64-bit ('emotion_venv': venv)",
   "name": "python3712jvsc74a57bd0ab1f2462a336e5b267859bcaec323d7994b03498b5a527fd46415c4b3e1c800d"
  },
  "language_info": {
   "codemirror_mode": {
    "name": "ipython",
    "version": 3
   },
   "file_extension": ".py",
   "mimetype": "text/x-python",
   "name": "python",
   "nbconvert_exporter": "python",
   "pygments_lexer": "ipython3",
   "version": "3.7.12"
  },
  "orig_nbformat": 2
 },
 "nbformat": 4,
 "nbformat_minor": 2
}