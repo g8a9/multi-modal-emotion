{
 "cells": [
  {
   "cell_type": "code",
   "execution_count": 29,
   "metadata": {},
   "outputs": [],
   "source": [
    "import pandas as pd\n",
    "from glob import glob\n",
    "import os\n"
   ]
  },
  {
   "cell_type": "code",
   "execution_count": 2,
   "metadata": {},
   "outputs": [],
   "source": [
    "df = pd.DataFrame()"
   ]
  },
  {
   "cell_type": "code",
   "execution_count": 8,
   "metadata": {},
   "outputs": [],
   "source": [
    "sentiment = \"/Users/pranavsood/Documents/DDI/Gitlab/multi-modal-emotion/data/data_sentiment.p\"\n",
    "emotion = \"/Users/pranavsood/Documents/DDI/Gitlab/multi-modal-emotion/data/data_emotion.p\"\n",
    "\n",
    "\n"
   ]
  },
  {
   "cell_type": "code",
   "execution_count": 9,
   "metadata": {},
   "outputs": [],
   "source": [
    "sentiment_data = pd.read_pickle(sentiment)\n",
    "emotion_data = pd.read_pickle(emotion)"
   ]
  },
  {
   "cell_type": "code",
   "execution_count": 10,
   "metadata": {},
   "outputs": [
    {
     "name": "stdout",
     "output_type": "stream",
     "text": [
      "             y dialog utterance  \\\n",
      "0      neutral      0         0   \n",
      "1      neutral      0         1   \n",
      "2      neutral      0         2   \n",
      "3      neutral      0         3   \n",
      "4      neutral      0         5   \n",
      "...        ...    ...       ...   \n",
      "13703    anger    279         2   \n",
      "13704    anger    279         3   \n",
      "13705    anger    279         4   \n",
      "13706    anger    279         7   \n",
      "13707    anger    279        10   \n",
      "\n",
      "                                                    text  num_words  split  \n",
      "0      also i was the point person on my company s tr...         19  train  \n",
      "1                        you must ve had your hands full          7  train  \n",
      "2                                  that i did that i did          6  train  \n",
      "3           so let s talk a little bit about your duties         10  train  \n",
      "4      now you ll be heading a whole division , so yo...         17  train  \n",
      "...                                                  ...        ...    ...  \n",
      "13703                           you stole them from me !          6   test  \n",
      "13704                         you stole them from me ! !          7   test  \n",
      "13705                                       gimme them !          3   test  \n",
      "13706  look , i really need some help , okay ? why ? ...         29   test  \n",
      "13707  yeah , fade the accent out and people will thi...         24   test  \n",
      "\n",
      "[13708 rows x 6 columns]\n",
      "{'neutral': 0, 'surprise': 1, 'fear': 2, 'sadness': 3, 'joy': 4, 'disgust': 5, 'anger': 6}\n"
     ]
    }
   ],
   "source": [
    "print(pd.DataFrame(emotion_data[0]))\n",
    "print(emotion_data[-1])"
   ]
  },
  {
   "cell_type": "code",
   "execution_count": 12,
   "metadata": {},
   "outputs": [],
   "source": [
    "emotion_pd = pd.DataFrame(emotion_data[0])\n",
    "mapping = emotion_data[-1]\n",
    "emotion_pd['y'] = emotion_pd['y'].map(mapping)\n",
    "\n"
   ]
  },
  {
   "cell_type": "code",
   "execution_count": 13,
   "metadata": {},
   "outputs": [
    {
     "data": {
      "text/html": "<div>\n<style scoped>\n    .dataframe tbody tr th:only-of-type {\n        vertical-align: middle;\n    }\n\n    .dataframe tbody tr th {\n        vertical-align: top;\n    }\n\n    .dataframe thead th {\n        text-align: right;\n    }\n</style>\n<table border=\"1\" class=\"dataframe\">\n  <thead>\n    <tr style=\"text-align: right;\">\n      <th></th>\n      <th>y</th>\n      <th>dialog</th>\n      <th>utterance</th>\n      <th>text</th>\n      <th>num_words</th>\n      <th>split</th>\n    </tr>\n  </thead>\n  <tbody>\n    <tr>\n      <th>0</th>\n      <td>0</td>\n      <td>0</td>\n      <td>0</td>\n      <td>also i was the point person on my company s tr...</td>\n      <td>19</td>\n      <td>train</td>\n    </tr>\n    <tr>\n      <th>1</th>\n      <td>0</td>\n      <td>0</td>\n      <td>1</td>\n      <td>you must ve had your hands full</td>\n      <td>7</td>\n      <td>train</td>\n    </tr>\n    <tr>\n      <th>2</th>\n      <td>0</td>\n      <td>0</td>\n      <td>2</td>\n      <td>that i did that i did</td>\n      <td>6</td>\n      <td>train</td>\n    </tr>\n    <tr>\n      <th>3</th>\n      <td>0</td>\n      <td>0</td>\n      <td>3</td>\n      <td>so let s talk a little bit about your duties</td>\n      <td>10</td>\n      <td>train</td>\n    </tr>\n    <tr>\n      <th>4</th>\n      <td>0</td>\n      <td>0</td>\n      <td>5</td>\n      <td>now you ll be heading a whole division , so yo...</td>\n      <td>17</td>\n      <td>train</td>\n    </tr>\n    <tr>\n      <th>...</th>\n      <td>...</td>\n      <td>...</td>\n      <td>...</td>\n      <td>...</td>\n      <td>...</td>\n      <td>...</td>\n    </tr>\n    <tr>\n      <th>13703</th>\n      <td>6</td>\n      <td>279</td>\n      <td>2</td>\n      <td>you stole them from me !</td>\n      <td>6</td>\n      <td>test</td>\n    </tr>\n    <tr>\n      <th>13704</th>\n      <td>6</td>\n      <td>279</td>\n      <td>3</td>\n      <td>you stole them from me ! !</td>\n      <td>7</td>\n      <td>test</td>\n    </tr>\n    <tr>\n      <th>13705</th>\n      <td>6</td>\n      <td>279</td>\n      <td>4</td>\n      <td>gimme them !</td>\n      <td>3</td>\n      <td>test</td>\n    </tr>\n    <tr>\n      <th>13706</th>\n      <td>6</td>\n      <td>279</td>\n      <td>7</td>\n      <td>look , i really need some help , okay ? why ? ...</td>\n      <td>29</td>\n      <td>test</td>\n    </tr>\n    <tr>\n      <th>13707</th>\n      <td>6</td>\n      <td>279</td>\n      <td>10</td>\n      <td>yeah , fade the accent out and people will thi...</td>\n      <td>24</td>\n      <td>test</td>\n    </tr>\n  </tbody>\n</table>\n<p>13708 rows × 6 columns</p>\n</div>",
      "text/plain": "       y dialog utterance                                               text  \\\n0      0      0         0  also i was the point person on my company s tr...   \n1      0      0         1                    you must ve had your hands full   \n2      0      0         2                              that i did that i did   \n3      0      0         3       so let s talk a little bit about your duties   \n4      0      0         5  now you ll be heading a whole division , so yo...   \n...   ..    ...       ...                                                ...   \n13703  6    279         2                           you stole them from me !   \n13704  6    279         3                         you stole them from me ! !   \n13705  6    279         4                                       gimme them !   \n13706  6    279         7  look , i really need some help , okay ? why ? ...   \n13707  6    279        10  yeah , fade the accent out and people will thi...   \n\n       num_words  split  \n0             19  train  \n1              7  train  \n2              6  train  \n3             10  train  \n4             17  train  \n...          ...    ...  \n13703          6   test  \n13704          7   test  \n13705          3   test  \n13706         29   test  \n13707         24   test  \n\n[13708 rows x 6 columns]"
     },
     "execution_count": 13,
     "metadata": {},
     "output_type": "execute_result"
    }
   ],
   "source": [
    "emotion_pd"
   ]
  },
  {
   "cell_type": "code",
   "execution_count": 14,
   "metadata": {},
   "outputs": [],
   "source": [
    "emotion_pd['index_wav'] = \"dia\" + emotion_pd['dialog'].astype(str) + '_utt' + emotion_pd['utterance'].astype(str) + \".wav\""
   ]
  },
  {
   "cell_type": "code",
   "execution_count": 15,
   "metadata": {},
   "outputs": [
    {
     "data": {
      "text/html": "<div>\n<style scoped>\n    .dataframe tbody tr th:only-of-type {\n        vertical-align: middle;\n    }\n\n    .dataframe tbody tr th {\n        vertical-align: top;\n    }\n\n    .dataframe thead th {\n        text-align: right;\n    }\n</style>\n<table border=\"1\" class=\"dataframe\">\n  <thead>\n    <tr style=\"text-align: right;\">\n      <th></th>\n      <th>y</th>\n      <th>dialog</th>\n      <th>utterance</th>\n      <th>text</th>\n      <th>num_words</th>\n      <th>split</th>\n      <th>index_wav</th>\n    </tr>\n  </thead>\n  <tbody>\n    <tr>\n      <th>555</th>\n      <td>0</td>\n      <td>125</td>\n      <td>3</td>\n      <td>oh , no no no , see , that that clock s a litt...</td>\n      <td>22</td>\n      <td>train</td>\n      <td>dia125_utt3.wav</td>\n    </tr>\n    <tr>\n      <th>5714</th>\n      <td>0</td>\n      <td>125</td>\n      <td>3</td>\n      <td>ohh , my new assistant is working out , yes</td>\n      <td>10</td>\n      <td>test</td>\n      <td>dia125_utt3.wav</td>\n    </tr>\n  </tbody>\n</table>\n</div>",
      "text/plain": "      y dialog utterance                                               text  \\\n555   0    125         3  oh , no no no , see , that that clock s a litt...   \n5714  0    125         3        ohh , my new assistant is working out , yes   \n\n      num_words  split        index_wav  \n555          22  train  dia125_utt3.wav  \n5714         10   test  dia125_utt3.wav  "
     },
     "execution_count": 15,
     "metadata": {},
     "output_type": "execute_result"
    }
   ],
   "source": [
    "emotion_pd[emotion_pd['index_wav'] == \"dia125_utt3.wav\"]"
   ]
  },
  {
   "cell_type": "code",
   "execution_count": 31,
   "metadata": {},
   "outputs": [],
   "source": [
    "val_folder = os.listdir(\"/Users/pranavsood/Documents/DDI/Gitlab/multi-modal-emotion/data/val_splits_wav/\")\n",
    "train_folder = os.listdir(\"/Users/pranavsood/Documents/DDI/Gitlab/multi-modal-emotion/data/train_splits_wav/\")\n",
    "test_folder = os.listdir(\"/Users/pranavsood/Documents/DDI/Gitlab/multi-modal-emotion/data/test_splits_wav/\")"
   ]
  },
  {
   "cell_type": "code",
   "execution_count": 32,
   "metadata": {},
   "outputs": [],
   "source": [
    "folder = val_folder+train_folder+test_folder"
   ]
  },
  {
   "cell_type": "code",
   "execution_count": 36,
   "metadata": {},
   "outputs": [
    {
     "data": {
      "text/plain": "['dia91_utt4.wav',\n 'dia90_utt4.wav',\n 'dia68_utt0.wav',\n 'dia69_utt0.wav',\n 'dia40_utt7.wav']"
     },
     "execution_count": 36,
     "metadata": {},
     "output_type": "execute_result"
    }
   ],
   "source": [
    "folder[5:10]"
   ]
  },
  {
   "cell_type": "code",
   "execution_count": 37,
   "metadata": {},
   "outputs": [
    {
     "data": {
      "text/html": "<div>\n<style scoped>\n    .dataframe tbody tr th:only-of-type {\n        vertical-align: middle;\n    }\n\n    .dataframe tbody tr th {\n        vertical-align: top;\n    }\n\n    .dataframe thead th {\n        text-align: right;\n    }\n</style>\n<table border=\"1\" class=\"dataframe\">\n  <thead>\n    <tr style=\"text-align: right;\">\n      <th></th>\n      <th>y</th>\n      <th>dialog</th>\n      <th>utterance</th>\n      <th>text</th>\n      <th>num_words</th>\n      <th>split</th>\n      <th>index_wav</th>\n      <th>check</th>\n    </tr>\n  </thead>\n  <tbody>\n    <tr>\n      <th>0</th>\n      <td>0</td>\n      <td>0</td>\n      <td>0</td>\n      <td>also i was the point person on my company s tr...</td>\n      <td>19</td>\n      <td>train</td>\n      <td>dia0_utt0.wav</td>\n      <td>1</td>\n    </tr>\n    <tr>\n      <th>1</th>\n      <td>0</td>\n      <td>0</td>\n      <td>1</td>\n      <td>you must ve had your hands full</td>\n      <td>7</td>\n      <td>train</td>\n      <td>dia0_utt1.wav</td>\n      <td>1</td>\n    </tr>\n    <tr>\n      <th>2</th>\n      <td>0</td>\n      <td>0</td>\n      <td>2</td>\n      <td>that i did that i did</td>\n      <td>6</td>\n      <td>train</td>\n      <td>dia0_utt2.wav</td>\n      <td>1</td>\n    </tr>\n    <tr>\n      <th>3</th>\n      <td>0</td>\n      <td>0</td>\n      <td>3</td>\n      <td>so let s talk a little bit about your duties</td>\n      <td>10</td>\n      <td>train</td>\n      <td>dia0_utt3.wav</td>\n      <td>1</td>\n    </tr>\n    <tr>\n      <th>4</th>\n      <td>0</td>\n      <td>0</td>\n      <td>5</td>\n      <td>now you ll be heading a whole division , so yo...</td>\n      <td>17</td>\n      <td>train</td>\n      <td>dia0_utt5.wav</td>\n      <td>1</td>\n    </tr>\n  </tbody>\n</table>\n</div>",
      "text/plain": "   y dialog utterance                                               text  \\\n0  0      0         0  also i was the point person on my company s tr...   \n1  0      0         1                    you must ve had your hands full   \n2  0      0         2                              that i did that i did   \n3  0      0         3       so let s talk a little bit about your duties   \n4  0      0         5  now you ll be heading a whole division , so yo...   \n\n   num_words  split      index_wav  check  \n0         19  train  dia0_utt0.wav      1  \n1          7  train  dia0_utt1.wav      1  \n2          6  train  dia0_utt2.wav      1  \n3         10  train  dia0_utt3.wav      1  \n4         17  train  dia0_utt5.wav      1  "
     },
     "execution_count": 37,
     "metadata": {},
     "output_type": "execute_result"
    }
   ],
   "source": [
    "emotion_pd.head(5)"
   ]
  },
  {
   "cell_type": "code",
   "execution_count": 38,
   "metadata": {},
   "outputs": [],
   "source": [
    "def check(idx):\n",
    "    if idx in folder:\n",
    "        folder.remove(idx)\n",
    "        return 1\n",
    "    else:\n",
    "        return 0\n"
   ]
  },
  {
   "cell_type": "code",
   "execution_count": 39,
   "metadata": {},
   "outputs": [],
   "source": [
    "emotion_pd['check'] = emotion_pd['index_wav'].apply(check)"
   ]
  },
  {
   "cell_type": "code",
   "execution_count": 40,
   "metadata": {},
   "outputs": [
    {
     "data": {
      "text/html": "<div>\n<style scoped>\n    .dataframe tbody tr th:only-of-type {\n        vertical-align: middle;\n    }\n\n    .dataframe tbody tr th {\n        vertical-align: top;\n    }\n\n    .dataframe thead th {\n        text-align: right;\n    }\n</style>\n<table border=\"1\" class=\"dataframe\">\n  <thead>\n    <tr style=\"text-align: right;\">\n      <th></th>\n      <th>y</th>\n      <th>dialog</th>\n      <th>utterance</th>\n      <th>text</th>\n      <th>num_words</th>\n      <th>split</th>\n      <th>index_wav</th>\n      <th>check</th>\n    </tr>\n  </thead>\n  <tbody>\n    <tr>\n      <th>5714</th>\n      <td>0</td>\n      <td>125</td>\n      <td>3</td>\n      <td>ohh , my new assistant is working out , yes</td>\n      <td>10</td>\n      <td>test</td>\n      <td>dia125_utt3.wav</td>\n      <td>0</td>\n    </tr>\n    <tr>\n      <th>11503</th>\n      <td>4</td>\n      <td>110</td>\n      <td>7</td>\n      <td>anyway , i figured after work i 'd go pick up ...</td>\n      <td>27</td>\n      <td>test</td>\n      <td>dia110_utt7.wav</td>\n      <td>0</td>\n    </tr>\n  </tbody>\n</table>\n</div>",
      "text/plain": "       y dialog utterance                                               text  \\\n5714   0    125         3        ohh , my new assistant is working out , yes   \n11503  4    110         7  anyway , i figured after work i 'd go pick up ...   \n\n       num_words split        index_wav  check  \n5714          10  test  dia125_utt3.wav      0  \n11503         27  test  dia110_utt7.wav      0  "
     },
     "execution_count": 40,
     "metadata": {},
     "output_type": "execute_result"
    }
   ],
   "source": [
    "emotion_pd[emotion_pd['check'] == 0]"
   ]
  },
  {
   "cell_type": "code",
   "execution_count": 10,
   "metadata": {},
   "outputs": [],
   "source": [
    "emotion_pd.to_pickle(\"/Users/pranavsood/Documents/Gitlab/multi-modal-emotion/data/emotion_pd.pkl\")"
   ]
  },
  {
   "cell_type": "code",
   "execution_count": 22,
   "metadata": {},
   "outputs": [
    {
     "data": {
      "text/html": "<div>\n<style scoped>\n    .dataframe tbody tr th:only-of-type {\n        vertical-align: middle;\n    }\n\n    .dataframe tbody tr th {\n        vertical-align: top;\n    }\n\n    .dataframe thead th {\n        text-align: right;\n    }\n</style>\n<table border=\"1\" class=\"dataframe\">\n  <thead>\n    <tr style=\"text-align: right;\">\n      <th></th>\n      <th>y</th>\n      <th>dialog</th>\n      <th>utterance</th>\n      <th>text</th>\n      <th>num_words</th>\n      <th>split</th>\n    </tr>\n  </thead>\n  <tbody>\n    <tr>\n      <th>0</th>\n      <td>0</td>\n      <td>0</td>\n      <td>0</td>\n      <td>also i was the point person on my company s tr...</td>\n      <td>19</td>\n      <td>train</td>\n    </tr>\n    <tr>\n      <th>1</th>\n      <td>0</td>\n      <td>0</td>\n      <td>1</td>\n      <td>you must ve had your hands full</td>\n      <td>7</td>\n      <td>train</td>\n    </tr>\n    <tr>\n      <th>2</th>\n      <td>0</td>\n      <td>0</td>\n      <td>2</td>\n      <td>that i did that i did</td>\n      <td>6</td>\n      <td>train</td>\n    </tr>\n    <tr>\n      <th>3</th>\n      <td>0</td>\n      <td>0</td>\n      <td>3</td>\n      <td>so let s talk a little bit about your duties</td>\n      <td>10</td>\n      <td>train</td>\n    </tr>\n    <tr>\n      <th>4</th>\n      <td>0</td>\n      <td>0</td>\n      <td>5</td>\n      <td>now you ll be heading a whole division , so yo...</td>\n      <td>17</td>\n      <td>train</td>\n    </tr>\n    <tr>\n      <th>...</th>\n      <td>...</td>\n      <td>...</td>\n      <td>...</td>\n      <td>...</td>\n      <td>...</td>\n      <td>...</td>\n    </tr>\n    <tr>\n      <th>13205</th>\n      <td>6</td>\n      <td>1035</td>\n      <td>0</td>\n      <td>what about me ? ! you you just said i could !</td>\n      <td>12</td>\n      <td>train</td>\n    </tr>\n    <tr>\n      <th>13206</th>\n      <td>6</td>\n      <td>1035</td>\n      <td>2</td>\n      <td>i can t believe you re not picking me</td>\n      <td>9</td>\n      <td>train</td>\n    </tr>\n    <tr>\n      <th>13207</th>\n      <td>6</td>\n      <td>1035</td>\n      <td>5</td>\n      <td>fine , y know what , that s it from now on , j...</td>\n      <td>23</td>\n      <td>train</td>\n    </tr>\n    <tr>\n      <th>13208</th>\n      <td>6</td>\n      <td>1036</td>\n      <td>10</td>\n      <td>a week ?</td>\n      <td>3</td>\n      <td>train</td>\n    </tr>\n    <tr>\n      <th>13209</th>\n      <td>6</td>\n      <td>1036</td>\n      <td>15</td>\n      <td>no !</td>\n      <td>2</td>\n      <td>train</td>\n    </tr>\n  </tbody>\n</table>\n<p>9989 rows × 6 columns</p>\n</div>",
      "text/plain": "       y dialog utterance                                               text  \\\n0      0      0         0  also i was the point person on my company s tr...   \n1      0      0         1                    you must ve had your hands full   \n2      0      0         2                              that i did that i did   \n3      0      0         3       so let s talk a little bit about your duties   \n4      0      0         5  now you ll be heading a whole division , so yo...   \n...   ..    ...       ...                                                ...   \n13205  6   1035         0      what about me ? ! you you just said i could !   \n13206  6   1035         2              i can t believe you re not picking me   \n13207  6   1035         5  fine , y know what , that s it from now on , j...   \n13208  6   1036        10                                           a week ?   \n13209  6   1036        15                                               no !   \n\n       num_words  split  \n0             19  train  \n1              7  train  \n2              6  train  \n3             10  train  \n4             17  train  \n...          ...    ...  \n13205         12  train  \n13206          9  train  \n13207         23  train  \n13208          3  train  \n13209          2  train  \n\n[9989 rows x 6 columns]"
     },
     "execution_count": 22,
     "metadata": {},
     "output_type": "execute_result"
    }
   ],
   "source": [
    "train = emotion_pd[emotion_pd['split'] == \"train\"] # 9989 rows of training data\n",
    "emotion_pd[emotion_pd['split'] == \"train\"] # 9989 rows of training data\n",
    "# test = emotion_pd[emotion_pd['split'] == \"test\"] # 2610 rows of testing data\n",
    "# emotion_pd[emotion_pd['split'] == \"test\"] # 2610 rows of testing data\n",
    "# val = emotion_pd[emotion_pd['split'] == \"val\"] # 1106 rows of validation data \n",
    "# emotion_pd[emotion_pd['split'] == \"val\"] # 1106 rows of validation data \n"
   ]
  },
  {
   "cell_type": "code",
   "execution_count": 27,
   "metadata": {},
   "outputs": [
    {
     "data": {
      "text/plain": "(9989, 6)"
     },
     "execution_count": 27,
     "metadata": {},
     "output_type": "execute_result"
    }
   ],
   "source": [
    "train.shape\n"
   ]
  },
  {
   "cell_type": "code",
   "execution_count": null,
   "metadata": {},
   "outputs": [],
   "source": []
  },
  {
   "cell_type": "code",
   "execution_count": null,
   "metadata": {},
   "outputs": [],
   "source": []
  },
  {
   "cell_type": "code",
   "execution_count": 32,
   "metadata": {},
   "outputs": [
    {
     "name": "stderr",
     "output_type": "stream",
     "text": [
      "/Users/pranavsood/Documents/Gitlab/multi-modal-emotion/src/emotion_venv/lib/python3.7/site-packages/tqdm/auto.py:22: TqdmWarning: IProgress not found. Please update jupyter and ipywidgets. See https://ipywidgets.readthedocs.io/en/stable/user_install.html\n",
      "  from .autonotebook import tqdm as notebook_tqdm\n"
     ]
    }
   ],
   "source": [
    "from torchtext.data.utils import get_tokenizer\n",
    "from transformers import BertTokenizer\n",
    "tokenizer_lstm = get_tokenizer(\"basic_english\")\n",
    "tokenizer_bert = BertTokenizer.from_pretrained('bert-base-cased')\n",
    "\n"
   ]
  },
  {
   "cell_type": "code",
   "execution_count": 37,
   "metadata": {},
   "outputs": [],
   "source": [
    "texts = [tokenizer_lstm(text) for text in emotion_pd['text']]"
   ]
  },
  {
   "cell_type": "code",
   "execution_count": 1,
   "metadata": {},
   "outputs": [
    {
     "ename": "NameError",
     "evalue": "name 'texts' is not defined",
     "output_type": "error",
     "traceback": [
      "\u001b[0;31m---------------------------------------------------------------------------\u001b[0m",
      "\u001b[0;31mNameError\u001b[0m                                 Traceback (most recent call last)",
      "\u001b[0;32m/var/folders/jv/q0cfrvk97_z312fy17tq6l9r0000gn/T/ipykernel_81751/1349828734.py\u001b[0m in \u001b[0;36m<module>\u001b[0;34m\u001b[0m\n\u001b[0;32m----> 1\u001b[0;31m \u001b[0mlen\u001b[0m\u001b[0;34m(\u001b[0m\u001b[0mtexts\u001b[0m\u001b[0;34m[\u001b[0m\u001b[0;36m0\u001b[0m\u001b[0;34m]\u001b[0m\u001b[0;34m)\u001b[0m \u001b[0;31m# 13708 x n\u001b[0m\u001b[0;34m\u001b[0m\u001b[0;34m\u001b[0m\u001b[0m\n\u001b[0m\u001b[1;32m      2\u001b[0m \u001b[0;34m\u001b[0m\u001b[0m\n\u001b[1;32m      3\u001b[0m \u001b[0mmax_\u001b[0m \u001b[0;34m=\u001b[0m \u001b[0;36m0\u001b[0m\u001b[0;34m\u001b[0m\u001b[0;34m\u001b[0m\u001b[0m\n\u001b[1;32m      4\u001b[0m \u001b[0;32mfor\u001b[0m \u001b[0mtext\u001b[0m \u001b[0;32min\u001b[0m \u001b[0mtexts\u001b[0m\u001b[0;34m:\u001b[0m\u001b[0;34m\u001b[0m\u001b[0;34m\u001b[0m\u001b[0m\n\u001b[1;32m      5\u001b[0m     \u001b[0mcheck\u001b[0m \u001b[0;34m=\u001b[0m \u001b[0mlen\u001b[0m\u001b[0;34m(\u001b[0m\u001b[0mtext\u001b[0m\u001b[0;34m)\u001b[0m\u001b[0;34m\u001b[0m\u001b[0;34m\u001b[0m\u001b[0m\n",
      "\u001b[0;31mNameError\u001b[0m: name 'texts' is not defined"
     ]
    }
   ],
   "source": [
    "len(texts[0]) # 13708 x n\n",
    "\n",
    "max_ = 0\n",
    "for text in texts:\n",
    "    check = len(text)\n",
    "    if check > max_:\n",
    "        max_ = check\n",
    "\n",
    "print(max_)"
   ]
  },
  {
   "cell_type": "code",
   "execution_count": 29,
   "metadata": {},
   "outputs": [
    {
     "name": "stdout",
     "output_type": "stream",
     "text": [
      "     y dialog utterance                                               text  \\\n",
      "0    0      0         0  also i was the point person on my company s tr...   \n",
      "1    0      0         1                    you must ve had your hands full   \n",
      "2    0      0         2                              that i did that i did   \n",
      "3    0      0         3       so let s talk a little bit about your duties   \n",
      "4    0      0         5  now you ll be heading a whole division , so yo...   \n",
      "..  ..    ...       ...                                                ...   \n",
      "995  0    222         7                             oh well , give it time   \n",
      "996  0    222         9  how about we all go out to dinner tomorrow nig...   \n",
      "997  0    222        14   just so you know , we re not seeing him tomorrow   \n",
      "998  0    222        17                                                 no   \n",
      "999  0    223         0  now maybe you just like wanna but the whole du...   \n",
      "\n",
      "     num_words  split  \n",
      "0           19  train  \n",
      "1            7  train  \n",
      "2            6  train  \n",
      "3           10  train  \n",
      "4           17  train  \n",
      "..         ...    ...  \n",
      "995          6  train  \n",
      "996         11  train  \n",
      "997         11  train  \n",
      "998          1  train  \n",
      "999         23  train  \n",
      "\n",
      "[1000 rows x 6 columns]\n",
      "      y dialog utterance                                               text  \\\n",
      "1000  0    223         1          how many times have i told you guys , you   \n",
      "1001  0    223         2                                        hi chandler   \n",
      "1002  0    223         3                                              hey !   \n",
      "1003  0    223         4  uh , listen , i need that broiling pan that jo...   \n",
      "1004  0    223         6                                     william sonoma   \n",
      "...  ..    ...       ...                                                ...   \n",
      "1995  0    450         6  yes , and i know that you d say no if he asked...   \n",
      "1996  0    450        13                             i know i need more pie   \n",
      "1997  0    450        14  hey mon umm , if you do get married , can i br...   \n",
      "1998  0    450        16                no , that was my way of telling you   \n",
      "1999  0    450        17  well , it turns out he s incredibly sensitive ...   \n",
      "\n",
      "      num_words  split  \n",
      "1000         10  train  \n",
      "1001          2  train  \n",
      "1002          2  train  \n",
      "1003         15  train  \n",
      "1004          2  train  \n",
      "...         ...    ...  \n",
      "1995         32  train  \n",
      "1996          6  train  \n",
      "1997         16  train  \n",
      "1998          9  train  \n",
      "1999         17  train  \n",
      "\n",
      "[1000 rows x 6 columns]\n",
      "      y dialog utterance                                               text  \\\n",
      "2000  0    450        18  he even showed me charcoal drawings that he dr...   \n",
      "2001  0    450        20  yeah , well he d prefer water colors , but y'k...   \n",
      "2002  0    450        21            so then , are you going to dump jason ?   \n",
      "2003  0    450        22  well , yeah , because i have to break up with ...   \n",
      "2004  0    450        23                 so it s really just about the math   \n",
      "...  ..    ...       ...                                                ...   \n",
      "2995  0    658        20  yeah , well , does he look upset ? does he loo...   \n",
      "2996  0    659         0            so , um , what do you do for a living ?   \n",
      "2997  0    659         1  well , um , for the past few years i 've been ...   \n",
      "2998  0    659         2  oh no i thought you said they could shoot the ...   \n",
      "2999  0    659         4                                  now that is funny   \n",
      "\n",
      "      num_words  split  \n",
      "2000         11  train  \n",
      "2001         21  train  \n",
      "2002         10  train  \n",
      "2003         33  train  \n",
      "2004          8  train  \n",
      "...         ...    ...  \n",
      "2995         21  train  \n",
      "2996         12  train  \n",
      "2997         24  train  \n",
      "2998         13  train  \n",
      "2999          4  train  \n",
      "\n",
      "[1000 rows x 6 columns]\n",
      "      y dialog utterance                                               text  \\\n",
      "3000  0    659         5  hey , do you think would it be too weird if i ...   \n",
      "3001  0    659         7                                            i guess   \n",
      "3002  0    659         8  are you sure ? great carol ? wanna come over a...   \n",
      "3003  0    659         9                    oh , no no no i'm fine i'm fine   \n",
      "3004  0    659        10                                            come on   \n",
      "...  ..    ...       ...                                                ...   \n",
      "3995  0    888        13  and uh , and david over there , i heard he doe...   \n",
      "3996  0    888        15  and uh , liam , liam s got bad knees you hit h...   \n",
      "3997  0    889         0                               oh ! oh by the way ?   \n",
      "3998  0    889         1                                             uh hmm   \n",
      "3999  0    889         2                                     james brolin ?   \n",
      "\n",
      "      num_words  split  \n",
      "3000         19  train  \n",
      "3001          2  train  \n",
      "3002         14  train  \n",
      "3003          9  train  \n",
      "3004          2  train  \n",
      "...         ...    ...  \n",
      "3995         16  train  \n",
      "3996         22  train  \n",
      "3997          7  train  \n",
      "3998          2  train  \n",
      "3999          3  train  \n",
      "\n",
      "[1000 rows x 6 columns]\n",
      "      y dialog utterance                                               text  \\\n",
      "4000  0    889         3  oh , i know i could only think of two names , ...   \n",
      "4001  0    889         4                            ed begley jr is not gay   \n",
      "4002  0    890         0                                            hello ?   \n",
      "4003  0    890         1                            hello , is ross there ?   \n",
      "4004  0    890         2            uh no , he s not can i take a message ?   \n",
      "...  ..    ...       ...                                                ...   \n",
      "6721  1    237         6     whoa , whoa , whoa , the poem is not about you   \n",
      "6722  1    237         7                                             what ?   \n",
      "6723  1    242         5                  that s why you broke up with me ?   \n",
      "6724  1    243         1           ross ! excuse me , pardon me , excuse me   \n",
      "6725  1    245        12                                        oh my god !   \n",
      "\n",
      "      num_words  split  \n",
      "4000         24  train  \n",
      "4001          6  train  \n",
      "4002          2  train  \n",
      "4003          6  train  \n",
      "4004         12  train  \n",
      "...         ...    ...  \n",
      "6721         12  train  \n",
      "6722          2  train  \n",
      "6723          9  train  \n",
      "6724         10  train  \n",
      "6725          4  train  \n",
      "\n",
      "[1000 rows x 6 columns]\n",
      "      y dialog utterance                                               text  \\\n",
      "6726  1    245        14  i ve been so busy planning the wedding that i ...   \n",
      "6727  1    247         1              joey ! those are my maternity pants !   \n",
      "6728  1    250         0  wow ! it 's huge ! it 's so much bigger than t...   \n",
      "6729  1    250         2                           oh ! you have a window !   \n",
      "6730  1    250         4                     oh look ! that guy 's peeing !   \n",
      "...  ..    ...       ...                                                ...   \n",
      "8152  2    264         8  i m going crazy ! okay ? do you have any thing...   \n",
      "8153  2    272         0  how could you pick up a hitchhiker ? ! he coul...   \n",
      "8154  2    274         8                             what am i gonna do ? !   \n",
      "8155  2    274        10  i wake up this morning , the stripper s gone a...   \n",
      "8156  2    274        12                                      of course ! !   \n",
      "\n",
      "      num_words  split  \n",
      "6726         22  train  \n",
      "6727          8  train  \n",
      "6728         20  train  \n",
      "6729          7  train  \n",
      "6730          8  train  \n",
      "...         ...    ...  \n",
      "8152         18  train  \n",
      "8153         23  train  \n",
      "8154          7  train  \n",
      "8155         16  train  \n",
      "8156          4  train  \n",
      "\n",
      "[1000 rows x 6 columns]\n",
      "      y dialog utterance                                               text  \\\n",
      "8157  2    275         3                             dude , what am i gonna   \n",
      "8158  2    275         5                oh , joey , i have such a problem !   \n",
      "8159  2    275        10      oh no , no no no no ! i do n't want to know !   \n",
      "8160  2    275        15  i know , i know ! i just ca n't keep this one ...   \n",
      "8161  2    279         3  joey , please don t do that i think it s best ...   \n",
      "...  ..    ...       ...                                                ...   \n",
      "9561  4     62         5                                             yeah !   \n",
      "9562  4     63         0          hey ! guess what i got for your wedding !   \n",
      "9563  4     63         2  no rachel hooked me up with a tux ! but not ju...   \n",
      "9564  4     63         4  that s right ! made expressly for val kilmer a...   \n",
      "9565  4     64         5             oo ! you should have one of us do it !   \n",
      "\n",
      "      num_words  split  \n",
      "8157          6  train  \n",
      "8158         10  train  \n",
      "8159         15  train  \n",
      "8160         21  train  \n",
      "8161         18  train  \n",
      "...         ...    ...  \n",
      "9561          2  train  \n",
      "9562         10  train  \n",
      "9563         19  train  \n",
      "9564         23  train  \n",
      "9565         11  train  \n",
      "\n",
      "[1000 rows x 6 columns]\n",
      "       y dialog utterance                                               text  \\\n",
      "9566   4     64         7  no ! no ! it s it s uh a real thing ! anyone c...   \n",
      "9567   4     64         8                                      i call it ! !   \n",
      "9568   4     65         0             see , i see big passion in your future   \n",
      "9569   4     65         3  oh ross , you 're so great she playfully rubs ...   \n",
      "9570   4     66         9                                   i love you , too   \n",
      "...   ..    ...       ...                                                ...   \n",
      "10561  4    695         2                                          damn it !   \n",
      "10562  4    695         4                                          damn it !   \n",
      "10563  4    695         6                                          oh crap !   \n",
      "10564  4    697         0       so chandler , i i 'd love to come by tonight   \n",
      "10565  4    697         2        oh absolutely shall we say , around seven ?   \n",
      "\n",
      "       num_words  split  \n",
      "9566          27  train  \n",
      "9567           5  train  \n",
      "9568           9  train  \n",
      "9569          15  train  \n",
      "9570           5  train  \n",
      "...          ...    ...  \n",
      "10561          3  train  \n",
      "10562          3  train  \n",
      "10563          3  train  \n",
      "10564         11  train  \n",
      "10565          9  train  \n",
      "\n",
      "[1000 rows x 6 columns]\n",
      "       y dialog utterance                                               text  \\\n",
      "10566  4    697         4  good i'm really looking forward to you and me ...   \n",
      "10567  4    702         0                                              yes !   \n",
      "10568  4    705         2  ohh , you and your ways since it s christmasti...   \n",
      "10569  4    705         3  yeah , i already have my bell and later on i g...   \n",
      "10570  4    705         5  yeah , yeah , i m going to be out there spread...   \n",
      "...   ..    ...       ...                                                ...   \n",
      "12216  6    115         4                             nobody sees the king !   \n",
      "12217  6    118         4              it s not a real game ! i made it up !   \n",
      "12218  6    119        12                                              i did   \n",
      "12219  6    121         5  y know you , you just stop being such a wuss a...   \n",
      "12220  6    123         1  that only is not funny , it 's physically impo...   \n",
      "\n",
      "       num_words  split  \n",
      "10566         12  train  \n",
      "10567          2  train  \n",
      "10568         21  train  \n",
      "10569         14  train  \n",
      "10570         16  train  \n",
      "...          ...    ...  \n",
      "12216          5  train  \n",
      "12217         12  train  \n",
      "12218          2  train  \n",
      "12219         28  train  \n",
      "12220         11  train  \n",
      "\n",
      "[1000 rows x 6 columns]\n",
      "       y dialog utterance                                               text  \\\n",
      "12221  6    123         2                                             okay ?   \n",
      "12222  6    123         3  depending on the species i 'd have to have a s...   \n",
      "12223  6    123         4                                  it 's not funny !   \n",
      "12224  6    123         6  i ca n't believe you put that on my alumni page !   \n",
      "12225  6    123         8  you 'd better hope not because i just read wha...   \n",
      "...   ..    ...       ...                                                ...   \n",
      "13205  6   1035         0      what about me ? ! you you just said i could !   \n",
      "13206  6   1035         2              i can t believe you re not picking me   \n",
      "13207  6   1035         5  fine , y know what , that s it from now on , j...   \n",
      "13208  6   1036        10                                           a week ?   \n",
      "13209  6   1036        15                                               no !   \n",
      "\n",
      "       num_words  split  \n",
      "12221          2  train  \n",
      "12222         13  train  \n",
      "12223          5  train  \n",
      "12224         12  train  \n",
      "12225         16  train  \n",
      "...          ...    ...  \n",
      "13205         12  train  \n",
      "13206          9  train  \n",
      "13207         23  train  \n",
      "13208          3  train  \n",
      "13209          2  train  \n",
      "\n",
      "[989 rows x 6 columns]\n"
     ]
    }
   ],
   "source": [
    "for i in range(0 , train.shape[0] , 1000):\n",
    "    if i + 1000 > 9989:\n",
    "        df = train.iloc[i : i + 1000 , ]\n",
    "    else:\n",
    "        df = train.iloc[i : i + 1000 , ]\n",
    "    \n",
    "    "
   ]
  }
 ],
 "metadata": {
  "kernelspec": {
   "display_name": "Python 3.7.12 64-bit",
   "name": "python3712jvsc74a57bd0ab1f2462a336e5b267859bcaec323d7994b03498b5a527fd46415c4b3e1c800d"
  },
  "language_info": {
   "codemirror_mode": {
    "name": "ipython",
    "version": 3
   },
   "file_extension": ".py",
   "mimetype": "text/x-python",
   "name": "python",
   "nbconvert_exporter": "python",
   "pygments_lexer": "ipython3",
   "version": "3.7.12"
  },
  "orig_nbformat": 2
 },
 "nbformat": 4,
 "nbformat_minor": 2
}