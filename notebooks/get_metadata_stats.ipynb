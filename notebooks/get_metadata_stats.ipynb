{
 "cells": [
  {
   "cell_type": "code",
   "execution_count": 1,
   "metadata": {},
   "outputs": [
    {
     "name": "stdout",
     "output_type": "stream",
     "text": [
      "['get_metadata_stats.ipynb', 'test_dataset_TEST.ipynb', 'data_meld.ipynb', 'test.ipynb']\n"
     ]
    }
   ],
   "source": [
    "import os\n",
    "from glob import glob\n",
    "import pandas as pd\n",
    "DATA_PATH = \"../../data/\"\n",
    "WAV_SPLITS = \"_splits_wav/\"\n",
    "\n",
    "# print(os.listdir(os.getcwd()))\n",
    "\n",
    "\n",
    "def path(_str):\n",
    "    return DATA_PATH + _str + WAV_SPLITS \n",
    "\n",
    "SPLITS = [\"train\" , \"test\" , \"val\"]"
   ]
  },
  {
   "cell_type": "code",
   "execution_count": 2,
   "metadata": {},
   "outputs": [],
   "source": [
    "# [0 1117 0 0 0 8871 0 0 0 0] = 9989 Train\n",
    "# [0 297 0 0 0 2450 0 0 0 0] = 2747 Test\n",
    "# [0 203 0 0 0 909 0 0 0 0] = 1112 Val"
   ]
  },
  {
   "cell_type": "code",
   "execution_count": 14,
   "metadata": {},
   "outputs": [],
   "source": [
    "emotion_pd = pd.read_pickle(f\"{DATA_PATH}emotion_pd_raw.pkl\")\n",
    "x = emotion_pd.head(1)"
   ]
  },
  {
   "cell_type": "code",
   "execution_count": 15,
   "metadata": {},
   "outputs": [
    {
     "data": {
      "text/html": "<div>\n<style scoped>\n    .dataframe tbody tr th:only-of-type {\n        vertical-align: middle;\n    }\n\n    .dataframe tbody tr th {\n        vertical-align: top;\n    }\n\n    .dataframe thead th {\n        text-align: right;\n    }\n</style>\n<table border=\"1\" class=\"dataframe\">\n  <thead>\n    <tr style=\"text-align: right;\">\n      <th></th>\n      <th>emotion</th>\n      <th>dialog</th>\n      <th>utterance</th>\n      <th>text</th>\n      <th>num_words</th>\n      <th>split</th>\n      <th>path</th>\n      <th>name</th>\n      <th>label</th>\n      <th>num_channels</th>\n    </tr>\n  </thead>\n  <tbody>\n    <tr>\n      <th>0</th>\n      <td>0</td>\n      <td>0</td>\n      <td>0</td>\n      <td>also i was the point person on my company s tr...</td>\n      <td>19</td>\n      <td>train</td>\n      <td>data/train_splits_wav/dia0_utt0.wav</td>\n      <td>dia0_utt0</td>\n      <td>neutral</td>\n      <td>2</td>\n    </tr>\n  </tbody>\n</table>\n</div>",
      "text/plain": "   emotion dialog utterance  \\\n0        0      0         0   \n\n                                                text  num_words  split  \\\n0  also i was the point person on my company s tr...         19  train   \n\n                                  path       name    label  num_channels  \n0  data/train_splits_wav/dia0_utt0.wav  dia0_utt0  neutral             2  "
     },
     "execution_count": 15,
     "metadata": {},
     "output_type": "execute_result"
    }
   ],
   "source": [
    "x"
   ]
  },
  {
   "cell_type": "code",
   "execution_count": 6,
   "metadata": {},
   "outputs": [
    {
     "name": "stdout",
     "output_type": "stream",
     "text": [
      "[0, 0, 0, 0, 0, 0, 1]\n",
      "[0, 0, 0, 0, 0, 0, 1]\n",
      "[0, 0, 0, 0, 0, 0, 1]\n"
     ]
    }
   ],
   "source": [
    "for i in SPLITS:\n",
    "    channel_matrix = [0]*7\n",
    "    for file in glob(f\"{path(i)}*\"):\n",
    "        idx = int(os.popen(f\"ffprobe -i {file} -show_entries stream=channels -select_streams a:0 -of compact=p=0:nk=1 -v 0\").read())\n",
    "        channel_matrix[idx] += 1\n",
    "        break\n",
    "    print(channel_matrix)\n",
    "    \n"
   ]
  },
  {
   "cell_type": "code",
   "execution_count": 8,
   "metadata": {},
   "outputs": [],
   "source": [
    "def get_num_channels(file):\n",
    "    return int(os.popen(f\"ffprobe -i ../../{file} -show_entries stream=channels -select_streams a:0 -of compact=p=0:nk=1 -v 0\").read())"
   ]
  },
  {
   "cell_type": "code",
   "execution_count": 11,
   "metadata": {},
   "outputs": [
    {
     "name": "stderr",
     "output_type": "stream",
     "text": [
      "100%|██████████| 13704/13704 [38:12<00:00,  5.98it/s]\n"
     ]
    }
   ],
   "source": [
    "from tqdm import tqdm\n",
    "tqdm.pandas()\n",
    "\n",
    "emotion_pd['num_channels'] = emotion_pd['path'].progress_apply(get_num_channels)"
   ]
  },
  {
   "cell_type": "code",
   "execution_count": 13,
   "metadata": {},
   "outputs": [],
   "source": [
    "emotion_pd.to_pickle(f\"{DATA_PATH}emotion_pd_raw.pkl\")"
   ]
  },
  {
   "cell_type": "code",
   "execution_count": null,
   "metadata": {},
   "outputs": [],
   "source": [
    "\n",
    "def cmd(_str):\n",
    "    return f\"\"\"channel_matrix=(0 0 0 0 0 0 0 0 0 0);for file in {path(_str)}*\n",
    "do\n",
    "output=$(ffprobe -i $file  -show_entries stream=channels -select_streams a:0 -of compact=p=0:nk=1 -v 0)\n",
    "(( channel_matrix[$output]++ )) \n",
    "echo $channel_matrix\n",
    "done | tqdm --total $(ls  {path(_str)} | wc -l)\n",
    "echo $channel_matrix\"\"\"\n",
    "\n",
    "for i in SPLITS:\n",
    "    os.system(cmd(i))\n",
    "\n",
    "\n",
    "\n"
   ]
  },
  {
   "cell_type": "code",
   "execution_count": null,
   "metadata": {},
   "outputs": [],
   "source": []
  },
  {
   "cell_type": "code",
   "execution_count": null,
   "metadata": {},
   "outputs": [],
   "source": []
  },
  {
   "cell_type": "code",
   "execution_count": null,
   "metadata": {},
   "outputs": [],
   "source": []
  },
  {
   "cell_type": "code",
   "execution_count": null,
   "metadata": {},
   "outputs": [],
   "source": []
  },
  {
   "cell_type": "code",
   "execution_count": null,
   "metadata": {},
   "outputs": [],
   "source": []
  },
  {
   "cell_type": "code",
   "execution_count": null,
   "metadata": {},
   "outputs": [],
   "source": []
  },
  {
   "cell_type": "code",
   "execution_count": null,
   "metadata": {},
   "outputs": [],
   "source": []
  },
  {
   "cell_type": "code",
   "execution_count": null,
   "metadata": {},
   "outputs": [],
   "source": []
  },
  {
   "cell_type": "code",
   "execution_count": 31,
   "metadata": {},
   "outputs": [
    {
     "name": "stdout",
     "output_type": "stream",
     "text": [
      "/Users/pranavsood/Documents/DDI/Gitlab/multi-modal-emotion/data/train_splits_wav/*\n"
     ]
    }
   ],
   "source": [
    "print(f\"{path('train')}*\")"
   ]
  }
 ],
 "metadata": {
  "kernelspec": {
   "display_name": "Python 3.7.12 64-bit",
   "name": "python3712jvsc74a57bd0ab1f2462a336e5b267859bcaec323d7994b03498b5a527fd46415c4b3e1c800d"
  },
  "language_info": {
   "codemirror_mode": {
    "name": "ipython",
    "version": 3
   },
   "file_extension": ".py",
   "mimetype": "text/x-python",
   "name": "python",
   "nbconvert_exporter": "python",
   "pygments_lexer": "ipython3",
   "version": "3.7.12"
  },
  "orig_nbformat": 2
 },
 "nbformat": 4,
 "nbformat_minor": 2
}