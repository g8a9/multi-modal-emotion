{
 "cells": [
  {
   "cell_type": "code",
   "execution_count": 1,
   "metadata": {},
   "outputs": [],
   "source": [
    "import pandas as pd"
   ]
  },
  {
   "cell_type": "code",
   "execution_count": 14,
   "metadata": {},
   "outputs": [],
   "source": [
    "df = pd.read_pickle(f\"/home/prsood/projects/def-whkchun/prsood/multi-modal-emotion/data/text_audio_video_emotion_data.pkl\")\n",
    "# df = df[df[\"size_padding\"] < 999426]\n",
    "df = df[df[\"audio_shape\"] > 10000] # Still seeing what the best configuration is for these\n",
    "df = df[~df['timings'].isna()]"
   ]
  },
  {
   "cell_type": "code",
   "execution_count": 15,
   "metadata": {},
   "outputs": [
    {
     "data": {
      "text/plain": [
       "emotion            0\n",
       "dialog             0\n",
       "utterance          0\n",
       "text               0\n",
       "num_words          0\n",
       "split              0\n",
       "audio_path         0\n",
       "name               0\n",
       "emotion_label      0\n",
       "num_channels       0\n",
       "audio_shape        0\n",
       "size_padding       0\n",
       "video_path         0\n",
       "sentiment_label    0\n",
       "sentiment          0\n",
       "timings            0\n",
       "dtype: int64"
      ]
     },
     "execution_count": 15,
     "metadata": {},
     "output_type": "execute_result"
    }
   ],
   "source": [
    "df.isna().sum()"
   ]
  },
  {
   "cell_type": "code",
   "execution_count": 18,
   "metadata": {},
   "outputs": [
    {
     "data": {
      "text/html": [
       "<div>\n",
       "<style scoped>\n",
       "    .dataframe tbody tr th:only-of-type {\n",
       "        vertical-align: middle;\n",
       "    }\n",
       "\n",
       "    .dataframe tbody tr th {\n",
       "        vertical-align: top;\n",
       "    }\n",
       "\n",
       "    .dataframe thead th {\n",
       "        text-align: right;\n",
       "    }\n",
       "</style>\n",
       "<table border=\"1\" class=\"dataframe\">\n",
       "  <thead>\n",
       "    <tr style=\"text-align: right;\">\n",
       "      <th></th>\n",
       "      <th>emotion</th>\n",
       "      <th>dialog</th>\n",
       "      <th>utterance</th>\n",
       "      <th>text</th>\n",
       "      <th>num_words</th>\n",
       "      <th>split</th>\n",
       "      <th>audio_path</th>\n",
       "      <th>name</th>\n",
       "      <th>emotion_label</th>\n",
       "      <th>num_channels</th>\n",
       "      <th>audio_shape</th>\n",
       "      <th>size_padding</th>\n",
       "      <th>video_path</th>\n",
       "      <th>sentiment_label</th>\n",
       "      <th>sentiment</th>\n",
       "      <th>timings</th>\n",
       "    </tr>\n",
       "  </thead>\n",
       "  <tbody>\n",
       "    <tr>\n",
       "      <th>4975</th>\n",
       "      <td>0</td>\n",
       "      <td>588</td>\n",
       "      <td>6</td>\n",
       "      <td>i</td>\n",
       "      <td>1</td>\n",
       "      <td>train</td>\n",
       "      <td>../../data/train_splits_wav/dia588_utt6.wav</td>\n",
       "      <td>dia588_utt6</td>\n",
       "      <td>neutral</td>\n",
       "      <td>6</td>\n",
       "      <td>44715</td>\n",
       "      <td>268290</td>\n",
       "      <td>../../data/train_video/dia588_utt6.mp4</td>\n",
       "      <td>neutral</td>\n",
       "      <td>1</td>\n",
       "      <td>(0.8444379496402878, 0.8645436151079138)</td>\n",
       "    </tr>\n",
       "  </tbody>\n",
       "</table>\n",
       "</div>"
      ],
      "text/plain": [
       "      emotion dialog utterance text  num_words  split  \\\n",
       "4975        0    588         6    i          1  train   \n",
       "\n",
       "                                       audio_path         name emotion_label  \\\n",
       "4975  ../../data/train_splits_wav/dia588_utt6.wav  dia588_utt6       neutral   \n",
       "\n",
       "      num_channels  audio_shape  size_padding  \\\n",
       "4975             6        44715        268290   \n",
       "\n",
       "                                  video_path sentiment_label  sentiment  \\\n",
       "4975  ../../data/train_video/dia588_utt6.mp4         neutral          1   \n",
       "\n",
       "                                       timings  \n",
       "4975  (0.8444379496402878, 0.8645436151079138)  "
      ]
     },
     "execution_count": 18,
     "metadata": {},
     "output_type": "execute_result"
    }
   ],
   "source": [
    "df[df['video_path'] == \"../../data/train_video/dia588_utt6.mp4\"]"
   ]
  },
  {
   "cell_type": "code",
   "execution_count": 19,
   "metadata": {},
   "outputs": [
    {
     "data": {
      "text/plain": [
       "-0.020105665467625933"
      ]
     },
     "execution_count": 19,
     "metadata": {},
     "output_type": "execute_result"
    }
   ],
   "source": [
    "0.8444379496402878 - 0.8645436151079138"
   ]
  }
 ],
 "metadata": {
  "kernelspec": {
   "display_name": "sarcasm_venv",
   "language": "python",
   "name": "python3"
  },
  "language_info": {
   "codemirror_mode": {
    "name": "ipython",
    "version": 3
   },
   "file_extension": ".py",
   "mimetype": "text/x-python",
   "name": "python",
   "nbconvert_exporter": "python",
   "pygments_lexer": "ipython3",
   "version": "3.7.7"
  },
  "orig_nbformat": 4,
  "vscode": {
   "interpreter": {
    "hash": "682255e32c8b7c7832e1c984c03ff3b577376f85199a15f316109068883e84f2"
   }
  }
 },
 "nbformat": 4,
 "nbformat_minor": 2
}
