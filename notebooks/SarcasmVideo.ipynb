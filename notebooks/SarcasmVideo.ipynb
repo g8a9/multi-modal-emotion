{
 "cells": [
  {
   "cell_type": "code",
   "execution_count": 8,
   "metadata": {},
   "outputs": [],
   "source": [
    "import pandas as pd\n",
    "from glob import glob"
   ]
  },
  {
   "cell_type": "code",
   "execution_count": 13,
   "metadata": {},
   "outputs": [
    {
     "data": {
      "text/plain": "['/Users/pranavsood/Documents/DDI/Github/multi-modal-sarcasm/data/mmsd_raw_data/utterances_final/2_234.mp4',\n '/Users/pranavsood/Documents/DDI/Github/multi-modal-sarcasm/data/mmsd_raw_data/utterances_final/2_235.mp4',\n '/Users/pranavsood/Documents/DDI/Github/multi-modal-sarcasm/data/mmsd_raw_data/utterances_final/2_236.mp4',\n '/Users/pranavsood/Documents/DDI/Github/multi-modal-sarcasm/data/mmsd_raw_data/utterances_final/2_232.mp4',\n '/Users/pranavsood/Documents/DDI/Github/multi-modal-sarcasm/data/mmsd_raw_data/utterances_final/2_231.mp4',\n '/Users/pranavsood/Documents/DDI/Github/multi-modal-sarcasm/data/mmsd_raw_data/utterances_final/2_230.mp4']"
     },
     "execution_count": 13,
     "metadata": {},
     "output_type": "execute_result"
    }
   ],
   "source": [
    "glob(\"/Users/pranavsood/Documents/DDI/Github/multi-modal-sarcasm/data/mmsd_raw_data/utterances_final/2_23*.mp4\")"
   ]
  }
 ],
 "metadata": {
  "kernelspec": {
   "display_name": "Python 3.7.12 64-bit",
   "name": "python3712jvsc74a57bd0ab1f2462a336e5b267859bcaec323d7994b03498b5a527fd46415c4b3e1c800d"
  },
  "language_info": {
   "codemirror_mode": {
    "name": "ipython",
    "version": 3
   },
   "file_extension": ".py",
   "mimetype": "text/x-python",
   "name": "python",
   "nbconvert_exporter": "python",
   "pygments_lexer": "ipython3",
   "version": "3.7.12"
  },
  "orig_nbformat": 2
 },
 "nbformat": 4,
 "nbformat_minor": 2
}