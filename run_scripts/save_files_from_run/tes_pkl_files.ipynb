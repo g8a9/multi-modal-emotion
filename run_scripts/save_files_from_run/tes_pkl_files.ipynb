{
 "cells": [
  {
   "cell_type": "code",
   "execution_count": 1,
   "metadata": {},
   "outputs": [
    {
     "name": "stderr",
     "output_type": "stream",
     "text": [
      "/Users/pranavsood/Documents/DDI/Gitlab/multi-modal-emotion/src/emotion_venv/lib/python3.7/site-packages/tqdm/auto.py:22: TqdmWarning: IProgress not found. Please update jupyter and ipywidgets. See https://ipywidgets.readthedocs.io/en/stable/user_install.html\n",
      "  from .autonotebook import tqdm as notebook_tqdm\n"
     ]
    }
   ],
   "source": [
    "import pandas as pd\n",
    "import torch\n",
    "import numpy as np\n",
    "from tqdm import tqdm\n",
    "tqdm.pandas()\n",
    "import torch.nn.utils.rnn as rnn_utils\n",
    "DATA_PATH = \"/Users/pranavsood/Documents/DDI/Gitlab/multi-modal-emotion/data\"\n",
    "SAVE_PATH = \"/Users/pranavsood/Documents/DDI/Gitlab/multi-modal-emotion/src/run_scripts/save_files_from_run\"\n"
   ]
  },
  {
   "cell_type": "code",
   "execution_count": 15,
   "metadata": {},
   "outputs": [],
   "source": [
    "# test_pkl = pd.read_pickle(f\"{SAVE_PATH}/test_pkl.pkl\")\n",
    "# train_pkl = pd.read_pickle(f\"{SAVE_PATH}/train_pkl.pkl\")\n",
    "val_pkl = pd.read_pickle(f\"{SAVE_PATH}/val_pkl.pkl\")"
   ]
  },
  {
   "cell_type": "code",
   "execution_count": 19,
   "metadata": {},
   "outputs": [
    {
     "data": {
      "text/plain": "array([-0.31369293, -0.20689136, -0.12330753, ...,  0.00206824,\n        0.00206824,  0.00206824], dtype=float32)"
     },
     "execution_count": 19,
     "metadata": {},
     "output_type": "execute_result"
    }
   ],
   "source": [
    "val_pkl['input_values'][0]"
   ]
  },
  {
   "cell_type": "code",
   "execution_count": 13,
   "metadata": {},
   "outputs": [],
   "source": [
    "emo_pd = pd.read_pickle(f\"{DATA_PATH}/emotion_pd.pkl\")\n",
    "emo2_pd = pd.read_pickle(f\"{DATA_PATH}/emotion_pd_raw.pkl\")\n"
   ]
  },
  {
   "cell_type": "code",
   "execution_count": 12,
   "metadata": {},
   "outputs": [
    {
     "data": {
      "text/html": "<div>\n<style scoped>\n    .dataframe tbody tr th:only-of-type {\n        vertical-align: middle;\n    }\n\n    .dataframe tbody tr th {\n        vertical-align: top;\n    }\n\n    .dataframe thead th {\n        text-align: right;\n    }\n</style>\n<table border=\"1\" class=\"dataframe\">\n  <thead>\n    <tr style=\"text-align: right;\">\n      <th></th>\n      <th>y</th>\n      <th>dialog</th>\n      <th>utterance</th>\n      <th>text</th>\n      <th>num_words</th>\n      <th>split</th>\n    </tr>\n  </thead>\n  <tbody>\n    <tr>\n      <th>0</th>\n      <td>0</td>\n      <td>0</td>\n      <td>0</td>\n      <td>also i was the point person on my company s tr...</td>\n      <td>19</td>\n      <td>train</td>\n    </tr>\n    <tr>\n      <th>1</th>\n      <td>0</td>\n      <td>0</td>\n      <td>1</td>\n      <td>you must ve had your hands full</td>\n      <td>7</td>\n      <td>train</td>\n    </tr>\n    <tr>\n      <th>2</th>\n      <td>0</td>\n      <td>0</td>\n      <td>2</td>\n      <td>that i did that i did</td>\n      <td>6</td>\n      <td>train</td>\n    </tr>\n    <tr>\n      <th>3</th>\n      <td>0</td>\n      <td>0</td>\n      <td>3</td>\n      <td>so let s talk a little bit about your duties</td>\n      <td>10</td>\n      <td>train</td>\n    </tr>\n    <tr>\n      <th>4</th>\n      <td>0</td>\n      <td>0</td>\n      <td>5</td>\n      <td>now you ll be heading a whole division , so yo...</td>\n      <td>17</td>\n      <td>train</td>\n    </tr>\n    <tr>\n      <th>...</th>\n      <td>...</td>\n      <td>...</td>\n      <td>...</td>\n      <td>...</td>\n      <td>...</td>\n      <td>...</td>\n    </tr>\n    <tr>\n      <th>13703</th>\n      <td>6</td>\n      <td>279</td>\n      <td>2</td>\n      <td>you stole them from me !</td>\n      <td>6</td>\n      <td>test</td>\n    </tr>\n    <tr>\n      <th>13704</th>\n      <td>6</td>\n      <td>279</td>\n      <td>3</td>\n      <td>you stole them from me ! !</td>\n      <td>7</td>\n      <td>test</td>\n    </tr>\n    <tr>\n      <th>13705</th>\n      <td>6</td>\n      <td>279</td>\n      <td>4</td>\n      <td>gimme them !</td>\n      <td>3</td>\n      <td>test</td>\n    </tr>\n    <tr>\n      <th>13706</th>\n      <td>6</td>\n      <td>279</td>\n      <td>7</td>\n      <td>look , i really need some help , okay ? why ? ...</td>\n      <td>29</td>\n      <td>test</td>\n    </tr>\n    <tr>\n      <th>13707</th>\n      <td>6</td>\n      <td>279</td>\n      <td>10</td>\n      <td>yeah , fade the accent out and people will thi...</td>\n      <td>24</td>\n      <td>test</td>\n    </tr>\n  </tbody>\n</table>\n<p>13708 rows × 6 columns</p>\n</div>",
      "text/plain": "       y dialog utterance                                               text  \\\n0      0      0         0  also i was the point person on my company s tr...   \n1      0      0         1                    you must ve had your hands full   \n2      0      0         2                              that i did that i did   \n3      0      0         3       so let s talk a little bit about your duties   \n4      0      0         5  now you ll be heading a whole division , so yo...   \n...   ..    ...       ...                                                ...   \n13703  6    279         2                           you stole them from me !   \n13704  6    279         3                         you stole them from me ! !   \n13705  6    279         4                                       gimme them !   \n13706  6    279         7  look , i really need some help , okay ? why ? ...   \n13707  6    279        10  yeah , fade the accent out and people will thi...   \n\n       num_words  split  \n0             19  train  \n1              7  train  \n2              6  train  \n3             10  train  \n4             17  train  \n...          ...    ...  \n13703          6   test  \n13704          7   test  \n13705          3   test  \n13706         29   test  \n13707         24   test  \n\n[13708 rows x 6 columns]"
     },
     "execution_count": 12,
     "metadata": {},
     "output_type": "execute_result"
    }
   ],
   "source": [
    "emo_pd"
   ]
  },
  {
   "cell_type": "code",
   "execution_count": 14,
   "metadata": {},
   "outputs": [
    {
     "data": {
      "text/html": "<div>\n<style scoped>\n    .dataframe tbody tr th:only-of-type {\n        vertical-align: middle;\n    }\n\n    .dataframe tbody tr th {\n        vertical-align: top;\n    }\n\n    .dataframe thead th {\n        text-align: right;\n    }\n</style>\n<table border=\"1\" class=\"dataframe\">\n  <thead>\n    <tr style=\"text-align: right;\">\n      <th></th>\n      <th>emotion</th>\n      <th>dialog</th>\n      <th>utterance</th>\n      <th>text</th>\n      <th>num_words</th>\n      <th>split</th>\n      <th>path</th>\n      <th>name</th>\n      <th>label</th>\n      <th>num_channels</th>\n    </tr>\n  </thead>\n  <tbody>\n    <tr>\n      <th>0</th>\n      <td>0</td>\n      <td>0</td>\n      <td>0</td>\n      <td>also i was the point person on my company s tr...</td>\n      <td>19</td>\n      <td>train</td>\n      <td>data/train_splits_wav/dia0_utt0.wav</td>\n      <td>dia0_utt0</td>\n      <td>neutral</td>\n      <td>2</td>\n    </tr>\n    <tr>\n      <th>1</th>\n      <td>0</td>\n      <td>0</td>\n      <td>1</td>\n      <td>you must ve had your hands full</td>\n      <td>7</td>\n      <td>train</td>\n      <td>data/train_splits_wav/dia0_utt1.wav</td>\n      <td>dia0_utt1</td>\n      <td>neutral</td>\n      <td>2</td>\n    </tr>\n    <tr>\n      <th>2</th>\n      <td>0</td>\n      <td>0</td>\n      <td>2</td>\n      <td>that i did that i did</td>\n      <td>6</td>\n      <td>train</td>\n      <td>data/train_splits_wav/dia0_utt2.wav</td>\n      <td>dia0_utt2</td>\n      <td>neutral</td>\n      <td>2</td>\n    </tr>\n    <tr>\n      <th>3</th>\n      <td>0</td>\n      <td>0</td>\n      <td>3</td>\n      <td>so let s talk a little bit about your duties</td>\n      <td>10</td>\n      <td>train</td>\n      <td>data/train_splits_wav/dia0_utt3.wav</td>\n      <td>dia0_utt3</td>\n      <td>neutral</td>\n      <td>2</td>\n    </tr>\n    <tr>\n      <th>4</th>\n      <td>0</td>\n      <td>0</td>\n      <td>5</td>\n      <td>now you ll be heading a whole division , so yo...</td>\n      <td>17</td>\n      <td>train</td>\n      <td>data/train_splits_wav/dia0_utt5.wav</td>\n      <td>dia0_utt5</td>\n      <td>neutral</td>\n      <td>2</td>\n    </tr>\n    <tr>\n      <th>...</th>\n      <td>...</td>\n      <td>...</td>\n      <td>...</td>\n      <td>...</td>\n      <td>...</td>\n      <td>...</td>\n      <td>...</td>\n      <td>...</td>\n      <td>...</td>\n      <td>...</td>\n    </tr>\n    <tr>\n      <th>13703</th>\n      <td>6</td>\n      <td>279</td>\n      <td>2</td>\n      <td>you stole them from me !</td>\n      <td>6</td>\n      <td>test</td>\n      <td>data/test_splits_wav/dia279_utt2.wav</td>\n      <td>dia279_utt2</td>\n      <td>anger</td>\n      <td>6</td>\n    </tr>\n    <tr>\n      <th>13704</th>\n      <td>6</td>\n      <td>279</td>\n      <td>3</td>\n      <td>you stole them from me ! !</td>\n      <td>7</td>\n      <td>test</td>\n      <td>data/test_splits_wav/dia279_utt3.wav</td>\n      <td>dia279_utt3</td>\n      <td>anger</td>\n      <td>6</td>\n    </tr>\n    <tr>\n      <th>13705</th>\n      <td>6</td>\n      <td>279</td>\n      <td>4</td>\n      <td>gimme them !</td>\n      <td>3</td>\n      <td>test</td>\n      <td>data/test_splits_wav/dia279_utt4.wav</td>\n      <td>dia279_utt4</td>\n      <td>anger</td>\n      <td>6</td>\n    </tr>\n    <tr>\n      <th>13706</th>\n      <td>6</td>\n      <td>279</td>\n      <td>7</td>\n      <td>look , i really need some help , okay ? why ? ...</td>\n      <td>29</td>\n      <td>test</td>\n      <td>data/test_splits_wav/dia279_utt7.wav</td>\n      <td>dia279_utt7</td>\n      <td>anger</td>\n      <td>6</td>\n    </tr>\n    <tr>\n      <th>13707</th>\n      <td>6</td>\n      <td>279</td>\n      <td>10</td>\n      <td>yeah , fade the accent out and people will thi...</td>\n      <td>24</td>\n      <td>test</td>\n      <td>data/test_splits_wav/dia279_utt10.wav</td>\n      <td>dia279_utt10</td>\n      <td>anger</td>\n      <td>6</td>\n    </tr>\n  </tbody>\n</table>\n<p>13704 rows × 10 columns</p>\n</div>",
      "text/plain": "       emotion dialog utterance  \\\n0            0      0         0   \n1            0      0         1   \n2            0      0         2   \n3            0      0         3   \n4            0      0         5   \n...        ...    ...       ...   \n13703        6    279         2   \n13704        6    279         3   \n13705        6    279         4   \n13706        6    279         7   \n13707        6    279        10   \n\n                                                    text  num_words  split  \\\n0      also i was the point person on my company s tr...         19  train   \n1                        you must ve had your hands full          7  train   \n2                                  that i did that i did          6  train   \n3           so let s talk a little bit about your duties         10  train   \n4      now you ll be heading a whole division , so yo...         17  train   \n...                                                  ...        ...    ...   \n13703                           you stole them from me !          6   test   \n13704                         you stole them from me ! !          7   test   \n13705                                       gimme them !          3   test   \n13706  look , i really need some help , okay ? why ? ...         29   test   \n13707  yeah , fade the accent out and people will thi...         24   test   \n\n                                        path          name    label  \\\n0        data/train_splits_wav/dia0_utt0.wav     dia0_utt0  neutral   \n1        data/train_splits_wav/dia0_utt1.wav     dia0_utt1  neutral   \n2        data/train_splits_wav/dia0_utt2.wav     dia0_utt2  neutral   \n3        data/train_splits_wav/dia0_utt3.wav     dia0_utt3  neutral   \n4        data/train_splits_wav/dia0_utt5.wav     dia0_utt5  neutral   \n...                                      ...           ...      ...   \n13703   data/test_splits_wav/dia279_utt2.wav   dia279_utt2    anger   \n13704   data/test_splits_wav/dia279_utt3.wav   dia279_utt3    anger   \n13705   data/test_splits_wav/dia279_utt4.wav   dia279_utt4    anger   \n13706   data/test_splits_wav/dia279_utt7.wav   dia279_utt7    anger   \n13707  data/test_splits_wav/dia279_utt10.wav  dia279_utt10    anger   \n\n       num_channels  \n0                 2  \n1                 2  \n2                 2  \n3                 2  \n4                 2  \n...             ...  \n13703             6  \n13704             6  \n13705             6  \n13706             6  \n13707             6  \n\n[13704 rows x 10 columns]"
     },
     "execution_count": 14,
     "metadata": {},
     "output_type": "execute_result"
    }
   ],
   "source": [
    "emo2_pd"
   ]
  }
 ],
 "metadata": {
  "kernelspec": {
   "display_name": "Python 3.7.12 64-bit ('emotion_venv': venv)",
   "name": "python3712jvsc74a57bd0ab1f2462a336e5b267859bcaec323d7994b03498b5a527fd46415c4b3e1c800d"
  },
  "language_info": {
   "codemirror_mode": {
    "name": "ipython",
    "version": 3
   },
   "file_extension": ".py",
   "mimetype": "text/x-python",
   "name": "python",
   "nbconvert_exporter": "python",
   "pygments_lexer": "ipython3",
   "version": "3.7.12"
  },
  "orig_nbformat": 2
 },
 "nbformat": 4,
 "nbformat_minor": 2
}